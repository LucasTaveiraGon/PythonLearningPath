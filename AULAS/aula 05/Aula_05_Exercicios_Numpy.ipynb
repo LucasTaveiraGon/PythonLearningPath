{
 "cells": [
  {
   "cell_type": "code",
   "execution_count": 1,
   "metadata": {
    "executionInfo": {
     "elapsed": 677,
     "status": "ok",
     "timestamp": 1614977967626,
     "user": {
      "displayName": "Mario Andre de Deus",
      "photoUrl": "https://lh3.googleusercontent.com/a-/AOh14GhSE6DtyiuV7-GdR81AxGoAZ-XsHT_RVAiONMjQ=s64",
      "userId": "14423115245909379376"
     },
     "user_tz": 180
    },
    "id": "oWvXz8dlL6di"
   },
   "outputs": [],
   "source": [
    "import numpy as np"
   ]
  },
  {
   "cell_type": "code",
   "execution_count": null,
   "metadata": {
    "id": "_z3JwkjPMApm"
   },
   "outputs": [],
   "source": [
    "#Ex1: Substitua todos os números ímpares em arr por -1 sem alterar arr\n",
    "arr = np.array([0, 1, 2, 3, 4, 5, 6, 7, 8, 9])\n",
    "\n",
    "\n",
    "#output desejado:\n",
    "#>  array([ 0, -1,  2, -1,  4, -1,  6, -1,  8, -1])\n",
    "arr\n",
    "#>  array([0, 1, 2, 3, 4, 5, 6, 7, 8, 9])"
   ]
  },
  {
   "cell_type": "code",
   "execution_count": null,
   "metadata": {
    "id": "_kvgyrAbM3CE"
   },
   "outputs": [],
   "source": [
    "#Ex2: Empilhe as  matrizes a e b verticalmente\n",
    "a = np.arange(10).reshape(2,-1)\n",
    "b = np.repeat(1, 10).reshape(2,-1)\n",
    "\n",
    "\n",
    "#output desejado:\n",
    "#> array([[0, 1, 2, 3, 4],\n",
    "#>        [5, 6, 7, 8, 9],\n",
    "#>        [1, 1, 1, 1, 1],\n",
    "#>        [1, 1, 1, 1, 1]])"
   ]
  },
  {
   "cell_type": "code",
   "execution_count": null,
   "metadata": {
    "id": "0mOhsu_sN29y"
   },
   "outputs": [],
   "source": [
    "#Ex3: Extraia os itens em comum entre a e b\n",
    "a = np.array([1,2,3,2,3,4,3,4,5,6])\n",
    "b = np.array([7,2,10,2,7,4,9,4,9,8])\n",
    "\n",
    "#output desejado:\n",
    "#array([2, 4])"
   ]
  },
  {
   "cell_type": "code",
   "execution_count": null,
   "metadata": {
    "id": "zuNcFcosN3Ab"
   },
   "outputs": [],
   "source": [
    "#Ex4: Imprima ou mostre apenas 3 casas decimais da matriz numpy rand_arr\n",
    "rand_arr = np.random.random((5,3))\n"
   ]
  },
  {
   "cell_type": "code",
   "execution_count": null,
   "metadata": {
    "id": "OGoi7G3vQwaB"
   },
   "outputs": [],
   "source": [
    "#Ex5: Importando um conjunto de dados com números e textos mantendo o texto intacto em python numpy:\n",
    "\n",
    "url = 'https://archive.ics.uci.edu/ml/machine-learning-databases/iris/iris.data'\n",
    "iris = np.genfromtxt(url, delimiter=',', dtype='object')\n",
    "names = ('sepallength', 'sepalwidth', 'petallength', 'petalwidth', 'species')"
   ]
  },
  {
   "cell_type": "code",
   "execution_count": null,
   "metadata": {
    "id": "rcMKdJf5RTmN"
   },
   "outputs": [],
   "source": [
    "#Ex6: Imprima as 3 primeiras linhas de iris"
   ]
  },
  {
   "cell_type": "code",
   "execution_count": null,
   "metadata": {
    "id": "YvmhA3unN3DF"
   },
   "outputs": [],
   "source": [
    "#Ex7: Encontre a media, mediana e desvio padrao da coluna sepallength do dataset iris (primeira coluna)\n",
    "url = 'https://archive.ics.uci.edu/ml/machine-learning-databases/iris/iris.data'\n",
    "iris = np.genfromtxt(url, delimiter=',', dtype='object')\n",
    "sepallength = np.genfromtxt(url, delimiter=',', dtype='float', usecols=[0])"
   ]
  },
  {
   "cell_type": "code",
   "execution_count": null,
   "metadata": {
    "id": "IYem22nPUIwN"
   },
   "outputs": [],
   "source": [
    "#Ex8 Encontre o 5o e o  95o percentil da coluna sepallength do dataset iris\n",
    "url = 'https://archive.ics.uci.edu/ml/machine-learning-databases/iris/iris.data'\n",
    "sepallength = np.genfromtxt(url, delimiter=',', dtype='float', usecols=[0])"
   ]
  }
 ],
 "metadata": {
  "colab": {
   "authorship_tag": "ABX9TyO+Y584/ZjZnGo2QfYF5wVX",
   "name": "Aula 5 - Exercicios - Numpy.ipynb",
   "provenance": []
  },
  "kernelspec": {
   "display_name": "Python 3 (ipykernel)",
   "language": "python",
   "name": "python3"
  },
  "language_info": {
   "codemirror_mode": {
    "name": "ipython",
    "version": 3
   },
   "file_extension": ".py",
   "mimetype": "text/x-python",
   "name": "python",
   "nbconvert_exporter": "python",
   "pygments_lexer": "ipython3",
   "version": "3.9.7"
  }
 },
 "nbformat": 4,
 "nbformat_minor": 1
}
