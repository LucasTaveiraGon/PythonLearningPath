{
 "cells": [
  {
   "cell_type": "markdown",
   "metadata": {
    "id": "J3ovQ_3f9Xih"
   },
   "source": [
    "# Agenda"
   ]
  },
  {
   "cell_type": "markdown",
   "metadata": {
    "id": "mgStbNB-9Xir"
   },
   "source": [
    "**Tópicos**:\n",
    "* Numpy:\n",
    " - Indexação\n",
    " - Manipulação de Arrays:\n",
    "    - vstack/hstack\n",
    "    - concatenate\n",
    "    - append\n",
    "  - Funções Matemáticas\n",
    "    - Trigonométricas\n",
    "    - Aritméticas\n",
    "    - Outras funções importantes\n",
    "  - Operações entre arrays\n"
   ]
  },
  {
   "cell_type": "code",
   "execution_count": 2,
   "metadata": {
    "executionInfo": {
     "elapsed": 531,
     "status": "ok",
     "timestamp": 1614983462573,
     "user": {
      "displayName": "Abner Cardoso Rodrigues Neto",
      "photoUrl": "",
      "userId": "17964229224599879007"
     },
     "user_tz": 180
    },
    "id": "MArEufzD9Xis"
   },
   "outputs": [],
   "source": [
    "import numpy as np"
   ]
  },
  {
   "cell_type": "markdown",
   "metadata": {
    "id": "wzu8ZR-Z9Xit"
   },
   "source": [
    "## Indexação\n",
    "\n",
    "*  É possível indexar um array usando índices inteiros\n",
    "*  Usando uma lista de booleanos\n",
    "*  Usando lista de inteiros"
   ]
  },
  {
   "cell_type": "code",
   "execution_count": 3,
   "metadata": {
    "executionInfo": {
     "elapsed": 587,
     "status": "ok",
     "timestamp": 1614983476827,
     "user": {
      "displayName": "Abner Cardoso Rodrigues Neto",
      "photoUrl": "",
      "userId": "17964229224599879007"
     },
     "user_tz": 180
    },
    "id": "8XW9DVyoKPJe"
   },
   "outputs": [],
   "source": [
    "a = np.array( [1, 2, 3] )\n",
    "b = np.array( [[2, 3, 4], [5, 6, 7]] )"
   ]
  },
  {
   "cell_type": "code",
   "execution_count": 4,
   "metadata": {
    "colab": {
     "base_uri": "https://localhost:8080/"
    },
    "executionInfo": {
     "elapsed": 1059,
     "status": "ok",
     "timestamp": 1614984680651,
     "user": {
      "displayName": "Abner Cardoso Rodrigues Neto",
      "photoUrl": "",
      "userId": "17964229224599879007"
     },
     "user_tz": 180
    },
    "id": "q_Aa90qjloUQ",
    "outputId": "783f30f4-ede5-4cc1-db0b-dac05c47c07a"
   },
   "outputs": [
    {
     "name": "stdout",
     "output_type": "stream",
     "text": [
      "[[2 3 4]\n",
      " [5 6 7]]\n"
     ]
    }
   ],
   "source": [
    "print(b)"
   ]
  },
  {
   "cell_type": "code",
   "execution_count": 5,
   "metadata": {
    "colab": {
     "base_uri": "https://localhost:8080/"
    },
    "executionInfo": {
     "elapsed": 529,
     "status": "ok",
     "timestamp": 1614983489436,
     "user": {
      "displayName": "Abner Cardoso Rodrigues Neto",
      "photoUrl": "",
      "userId": "17964229224599879007"
     },
     "user_tz": 180
    },
    "id": "LbViSM9LKVGy",
    "outputId": "52a775a1-50f8-427f-e25f-3dd48adff78c"
   },
   "outputs": [
    {
     "name": "stdout",
     "output_type": "stream",
     "text": [
      "1\n",
      "3\n",
      "7\n"
     ]
    }
   ],
   "source": [
    "print(a[0])\n",
    "print(b[0, 1])\n",
    "print(b[1, 2])"
   ]
  },
  {
   "cell_type": "code",
   "execution_count": 6,
   "metadata": {
    "colab": {
     "base_uri": "https://localhost:8080/"
    },
    "executionInfo": {
     "elapsed": 1040,
     "status": "ok",
     "timestamp": 1614983614420,
     "user": {
      "displayName": "Abner Cardoso Rodrigues Neto",
      "photoUrl": "",
      "userId": "17964229224599879007"
     },
     "user_tz": 180
    },
    "id": "vCgI5VaFhfXy",
    "outputId": "8e2e2dd2-d696-4a61-8780-5ea4a357247e"
   },
   "outputs": [
    {
     "data": {
      "text/plain": [
       "True"
      ]
     },
     "execution_count": 6,
     "metadata": {},
     "output_type": "execute_result"
    }
   ],
   "source": [
    "3 > 1"
   ]
  },
  {
   "cell_type": "markdown",
   "metadata": {
    "id": "A3fJZ8faKmLg"
   },
   "source": [
    "Na aula passada fizemos operações aritméticas em um array, e se fizéssemos lógicas? Exemplo `a > 1` ?"
   ]
  },
  {
   "cell_type": "code",
   "execution_count": 7,
   "metadata": {
    "colab": {
     "base_uri": "https://localhost:8080/"
    },
    "executionInfo": {
     "elapsed": 1080,
     "status": "ok",
     "timestamp": 1614983643491,
     "user": {
      "displayName": "Abner Cardoso Rodrigues Neto",
      "photoUrl": "",
      "userId": "17964229224599879007"
     },
     "user_tz": 180
    },
    "id": "zLwXnAUlKcOl",
    "outputId": "f7ec2e1b-dc6d-488a-bad8-e91011f13ec1"
   },
   "outputs": [
    {
     "name": "stdout",
     "output_type": "stream",
     "text": [
      "[False  True  True]\n"
     ]
    }
   ],
   "source": [
    "print(a>1)"
   ]
  },
  {
   "cell_type": "markdown",
   "metadata": {
    "id": "hxNkfOyGN_j2"
   },
   "source": [
    "E se eu fizer a mesma coisa com b?"
   ]
  },
  {
   "cell_type": "code",
   "execution_count": 8,
   "metadata": {
    "colab": {
     "base_uri": "https://localhost:8080/"
    },
    "executionInfo": {
     "elapsed": 538,
     "status": "ok",
     "timestamp": 1614983671747,
     "user": {
      "displayName": "Abner Cardoso Rodrigues Neto",
      "photoUrl": "",
      "userId": "17964229224599879007"
     },
     "user_tz": 180
    },
    "id": "nGr_o0XSN-vy",
    "outputId": "588fdb1f-5730-43e5-e7dd-3ab3d20d88ba"
   },
   "outputs": [
    {
     "name": "stdout",
     "output_type": "stream",
     "text": [
      "[[False False  True]\n",
      " [ True  True  True]]\n"
     ]
    }
   ],
   "source": [
    "print(b > 3)"
   ]
  },
  {
   "cell_type": "code",
   "execution_count": 9,
   "metadata": {
    "colab": {
     "base_uri": "https://localhost:8080/"
    },
    "executionInfo": {
     "elapsed": 528,
     "status": "ok",
     "timestamp": 1614983725633,
     "user": {
      "displayName": "Abner Cardoso Rodrigues Neto",
      "photoUrl": "",
      "userId": "17964229224599879007"
     },
     "user_tz": 180
    },
    "id": "IilYst-GOHki",
    "outputId": "274126a5-7429-4d97-a32c-53fd3d348672"
   },
   "outputs": [
    {
     "data": {
      "text/plain": [
       "array([1])"
      ]
     },
     "execution_count": 9,
     "metadata": {},
     "output_type": "execute_result"
    }
   ],
   "source": [
    "a[a == 1]"
   ]
  },
  {
   "cell_type": "code",
   "execution_count": 10,
   "metadata": {
    "colab": {
     "base_uri": "https://localhost:8080/"
    },
    "executionInfo": {
     "elapsed": 538,
     "status": "ok",
     "timestamp": 1614984186166,
     "user": {
      "displayName": "Abner Cardoso Rodrigues Neto",
      "photoUrl": "",
      "userId": "17964229224599879007"
     },
     "user_tz": 180
    },
    "id": "WjT9cokQjvg1",
    "outputId": "ddd634dd-edab-443c-bf7d-b22d9ae2c658"
   },
   "outputs": [
    {
     "data": {
      "text/plain": [
       "2.0"
      ]
     },
     "execution_count": 10,
     "metadata": {},
     "output_type": "execute_result"
    }
   ],
   "source": [
    "np.mean(a)"
   ]
  },
  {
   "cell_type": "code",
   "execution_count": 11,
   "metadata": {
    "colab": {
     "base_uri": "https://localhost:8080/"
    },
    "executionInfo": {
     "elapsed": 1223,
     "status": "ok",
     "timestamp": 1614984342669,
     "user": {
      "displayName": "Abner Cardoso Rodrigues Neto",
      "photoUrl": "",
      "userId": "17964229224599879007"
     },
     "user_tz": 180
    },
    "id": "uMY9Q1n4j0SG",
    "outputId": "ae618811-ddce-477b-dbd7-4966980a7afa"
   },
   "outputs": [
    {
     "data": {
      "text/plain": [
       "array([], dtype=int32)"
      ]
     },
     "execution_count": 11,
     "metadata": {},
     "output_type": "execute_result"
    }
   ],
   "source": [
    "a[ a < (np.mean(a) - 2*np.std(a)) ]"
   ]
  },
  {
   "cell_type": "code",
   "execution_count": 12,
   "metadata": {
    "colab": {
     "base_uri": "https://localhost:8080/"
    },
    "executionInfo": {
     "elapsed": 545,
     "status": "ok",
     "timestamp": 1614983916070,
     "user": {
      "displayName": "Abner Cardoso Rodrigues Neto",
      "photoUrl": "",
      "userId": "17964229224599879007"
     },
     "user_tz": 180
    },
    "id": "yozI_-3xOKZj",
    "outputId": "1dfadc9c-c380-4815-8746-fe25d36cf5f1"
   },
   "outputs": [
    {
     "data": {
      "text/plain": [
       "(array([1, 2], dtype=int64),)"
      ]
     },
     "execution_count": 12,
     "metadata": {},
     "output_type": "execute_result"
    }
   ],
   "source": [
    "np.where(a > 1)"
   ]
  },
  {
   "cell_type": "code",
   "execution_count": 13,
   "metadata": {
    "colab": {
     "base_uri": "https://localhost:8080/"
    },
    "executionInfo": {
     "elapsed": 527,
     "status": "ok",
     "timestamp": 1614984132563,
     "user": {
      "displayName": "Abner Cardoso Rodrigues Neto",
      "photoUrl": "",
      "userId": "17964229224599879007"
     },
     "user_tz": 180
    },
    "id": "uk1A4XlljhP9",
    "outputId": "5929f112-f82b-4d6a-b68b-00f17f8c1135"
   },
   "outputs": [
    {
     "data": {
      "text/plain": [
       "array([2, 3])"
      ]
     },
     "execution_count": 13,
     "metadata": {},
     "output_type": "execute_result"
    }
   ],
   "source": [
    "a[np.where(a > 1)]"
   ]
  },
  {
   "cell_type": "code",
   "execution_count": 14,
   "metadata": {
    "colab": {
     "base_uri": "https://localhost:8080/"
    },
    "executionInfo": {
     "elapsed": 522,
     "status": "ok",
     "timestamp": 1614984051648,
     "user": {
      "displayName": "Abner Cardoso Rodrigues Neto",
      "photoUrl": "",
      "userId": "17964229224599879007"
     },
     "user_tz": 180
    },
    "id": "REdDPuI6jOvK",
    "outputId": "3555dd19-e659-4a2e-a6d0-30eecc32c301"
   },
   "outputs": [
    {
     "data": {
      "text/plain": [
       "(3,)"
      ]
     },
     "execution_count": 14,
     "metadata": {},
     "output_type": "execute_result"
    }
   ],
   "source": [
    "a.shape"
   ]
  },
  {
   "cell_type": "code",
   "execution_count": 15,
   "metadata": {
    "colab": {
     "base_uri": "https://localhost:8080/"
    },
    "executionInfo": {
     "elapsed": 759,
     "status": "ok",
     "timestamp": 1614983939945,
     "user": {
      "displayName": "Abner Cardoso Rodrigues Neto",
      "photoUrl": "",
      "userId": "17964229224599879007"
     },
     "user_tz": 180
    },
    "id": "RuakD_bFONB6",
    "outputId": "b4aa626d-19c8-4b9a-8847-8aeb631cf066"
   },
   "outputs": [
    {
     "data": {
      "text/plain": [
       "(array([0, 1, 1, 1], dtype=int64), array([2, 0, 1, 2], dtype=int64))"
      ]
     },
     "execution_count": 15,
     "metadata": {},
     "output_type": "execute_result"
    }
   ],
   "source": [
    "np.where(b > 3)"
   ]
  },
  {
   "cell_type": "code",
   "execution_count": 16,
   "metadata": {
    "colab": {
     "base_uri": "https://localhost:8080/"
    },
    "executionInfo": {
     "elapsed": 553,
     "status": "ok",
     "timestamp": 1614984006424,
     "user": {
      "displayName": "Abner Cardoso Rodrigues Neto",
      "photoUrl": "",
      "userId": "17964229224599879007"
     },
     "user_tz": 180
    },
    "id": "esYKFj61OdoK",
    "outputId": "1ee8eabf-8a8a-4ef5-f17e-3f145790557f"
   },
   "outputs": [
    {
     "data": {
      "text/plain": [
       "array([4, 5, 6, 7])"
      ]
     },
     "execution_count": 16,
     "metadata": {},
     "output_type": "execute_result"
    }
   ],
   "source": [
    "b[ np.where(b > 3) ]"
   ]
  },
  {
   "cell_type": "code",
   "execution_count": 17,
   "metadata": {
    "colab": {
     "base_uri": "https://localhost:8080/"
    },
    "executionInfo": {
     "elapsed": 502,
     "status": "ok",
     "timestamp": 1614984891855,
     "user": {
      "displayName": "Abner Cardoso Rodrigues Neto",
      "photoUrl": "",
      "userId": "17964229224599879007"
     },
     "user_tz": 180
    },
    "id": "rzKbReJamcJ-",
    "outputId": "071d692d-2685-4806-d4ff-02b2bf5fff4f"
   },
   "outputs": [
    {
     "data": {
      "text/plain": [
       "array([[False, False,  True],\n",
       "       [ True,  True,  True]])"
      ]
     },
     "execution_count": 17,
     "metadata": {},
     "output_type": "execute_result"
    }
   ],
   "source": [
    "b > 3"
   ]
  },
  {
   "cell_type": "code",
   "execution_count": 18,
   "metadata": {
    "colab": {
     "base_uri": "https://localhost:8080/"
    },
    "executionInfo": {
     "elapsed": 515,
     "status": "ok",
     "timestamp": 1614984874197,
     "user": {
      "displayName": "Abner Cardoso Rodrigues Neto",
      "photoUrl": "",
      "userId": "17964229224599879007"
     },
     "user_tz": 180
    },
    "id": "b6Xxcr3KmWLa",
    "outputId": "c1a28cf3-43cc-48da-8997-c4a8e6c533cf"
   },
   "outputs": [
    {
     "data": {
      "text/plain": [
       "array([4, 5, 6, 7])"
      ]
     },
     "execution_count": 18,
     "metadata": {},
     "output_type": "execute_result"
    }
   ],
   "source": [
    "b[b > 3]"
   ]
  },
  {
   "cell_type": "code",
   "execution_count": 19,
   "metadata": {
    "executionInfo": {
     "elapsed": 497,
     "status": "ok",
     "timestamp": 1614985211422,
     "user": {
      "displayName": "Abner Cardoso Rodrigues Neto",
      "photoUrl": "",
      "userId": "17964229224599879007"
     },
     "user_tz": 180
    },
    "id": "VkTOXw8tnltE"
   },
   "outputs": [],
   "source": [
    "b[0,0] = 200"
   ]
  },
  {
   "cell_type": "code",
   "execution_count": 20,
   "metadata": {
    "colab": {
     "base_uri": "https://localhost:8080/"
    },
    "executionInfo": {
     "elapsed": 587,
     "status": "ok",
     "timestamp": 1614985217898,
     "user": {
      "displayName": "Abner Cardoso Rodrigues Neto",
      "photoUrl": "",
      "userId": "17964229224599879007"
     },
     "user_tz": 180
    },
    "id": "DMO49pK7nrXE",
    "outputId": "0271452d-6b51-42ad-85aa-4aeb8838af7c"
   },
   "outputs": [
    {
     "name": "stdout",
     "output_type": "stream",
     "text": [
      "[[200   3   4]\n",
      " [  5   6   7]]\n"
     ]
    }
   ],
   "source": [
    "print(b)"
   ]
  },
  {
   "cell_type": "markdown",
   "metadata": {
    "id": "ivKH8lIlOnar"
   },
   "source": [
    "## Manipulação de Arrays"
   ]
  },
  {
   "cell_type": "markdown",
   "metadata": {
    "id": "3td1HJQIQESN"
   },
   "source": [
    "### hstack/vstack"
   ]
  },
  {
   "cell_type": "code",
   "execution_count": 21,
   "metadata": {
    "colab": {
     "base_uri": "https://localhost:8080/"
    },
    "executionInfo": {
     "elapsed": 485,
     "status": "ok",
     "timestamp": 1614985899726,
     "user": {
      "displayName": "Abner Cardoso Rodrigues Neto",
      "photoUrl": "",
      "userId": "17964229224599879007"
     },
     "user_tz": 180
    },
    "id": "V7yZgfiRCCYA",
    "outputId": "6ff48453-27a1-45c4-d793-956cae0416dd"
   },
   "outputs": [
    {
     "name": "stdout",
     "output_type": "stream",
     "text": [
      "[[1 1 1]\n",
      " [1 2 3]\n",
      " [2 3 4]]\n"
     ]
    }
   ],
   "source": [
    "a = np.array([1, 2, 3])\n",
    "b = np.array([2, 3, 4])\n",
    "c = np.array([1, 1, 1])\n",
    "print(np.vstack((c,a,b)))"
   ]
  },
  {
   "cell_type": "code",
   "execution_count": 22,
   "metadata": {
    "executionInfo": {
     "elapsed": 546,
     "status": "ok",
     "timestamp": 1614985354466,
     "user": {
      "displayName": "Abner Cardoso Rodrigues Neto",
      "photoUrl": "",
      "userId": "17964229224599879007"
     },
     "user_tz": 180
    },
    "id": "0jPnyT9ToIVp"
   },
   "outputs": [],
   "source": [
    "c = np.vstack((a,b))"
   ]
  },
  {
   "cell_type": "code",
   "execution_count": 23,
   "metadata": {
    "colab": {
     "base_uri": "https://localhost:8080/"
    },
    "executionInfo": {
     "elapsed": 896,
     "status": "ok",
     "timestamp": 1614985361829,
     "user": {
      "displayName": "Abner Cardoso Rodrigues Neto",
      "photoUrl": "",
      "userId": "17964229224599879007"
     },
     "user_tz": 180
    },
    "id": "3WhD9k91oOV4",
    "outputId": "c5dbf7c3-0828-4082-9464-7906e60d4c22"
   },
   "outputs": [
    {
     "name": "stdout",
     "output_type": "stream",
     "text": [
      "[[1 2 3]\n",
      " [2 3 4]]\n"
     ]
    }
   ],
   "source": [
    "print(c)"
   ]
  },
  {
   "cell_type": "code",
   "execution_count": 24,
   "metadata": {
    "colab": {
     "base_uri": "https://localhost:8080/"
    },
    "executionInfo": {
     "elapsed": 818,
     "status": "ok",
     "timestamp": 1614985430999,
     "user": {
      "displayName": "Abner Cardoso Rodrigues Neto",
      "photoUrl": "",
      "userId": "17964229224599879007"
     },
     "user_tz": 180
    },
    "id": "PHlhwBWooelB",
    "outputId": "101d5165-4db2-4cbb-a1fa-888198defec9"
   },
   "outputs": [
    {
     "data": {
      "text/plain": [
       "numpy.ndarray"
      ]
     },
     "execution_count": 24,
     "metadata": {},
     "output_type": "execute_result"
    }
   ],
   "source": [
    "type(c)"
   ]
  },
  {
   "cell_type": "markdown",
   "metadata": {
    "id": "_bD1o6wCCgTy"
   },
   "source": [
    "**Observações**: \n",
    "- Recebe uma tupla como entrada\n",
    "- Arrays podem ter mais de uma dimensão\n",
    "- Retorna uma variável nova"
   ]
  },
  {
   "cell_type": "code",
   "execution_count": 25,
   "metadata": {
    "colab": {
     "base_uri": "https://localhost:8080/"
    },
    "executionInfo": {
     "elapsed": 553,
     "status": "ok",
     "timestamp": 1614985464067,
     "user": {
      "displayName": "Abner Cardoso Rodrigues Neto",
      "photoUrl": "",
      "userId": "17964229224599879007"
     },
     "user_tz": 180
    },
    "id": "kD0Ma4OdBdhn",
    "outputId": "34e77b1a-fdd2-40cc-f9c4-c5cf72c9c242"
   },
   "outputs": [
    {
     "data": {
      "text/plain": [
       "array([1, 2, 3, 2, 3, 4])"
      ]
     },
     "execution_count": 25,
     "metadata": {},
     "output_type": "execute_result"
    }
   ],
   "source": [
    "a = np.array((1,2,3))\n",
    "b = np.array((2,3,4))\n",
    "np.hstack((a,b))"
   ]
  },
  {
   "cell_type": "code",
   "execution_count": 26,
   "metadata": {
    "colab": {
     "base_uri": "https://localhost:8080/"
    },
    "executionInfo": {
     "elapsed": 509,
     "status": "ok",
     "timestamp": 1614985479076,
     "user": {
      "displayName": "Abner Cardoso Rodrigues Neto",
      "photoUrl": "",
      "userId": "17964229224599879007"
     },
     "user_tz": 180
    },
    "id": "oZZn49oGoqrC",
    "outputId": "271c43c2-2443-40ae-dbdd-ad82a8553de9"
   },
   "outputs": [
    {
     "name": "stdout",
     "output_type": "stream",
     "text": [
      "[1 2 3]\n",
      "[2 3 4]\n"
     ]
    }
   ],
   "source": [
    "print(a)\n",
    "print(b)"
   ]
  },
  {
   "cell_type": "code",
   "execution_count": 31,
   "metadata": {
    "id": "qzKiNa5VDqy8"
   },
   "outputs": [
    {
     "name": "stdout",
     "output_type": "stream",
     "text": [
      "[[7 2]\n",
      " [5 3]\n",
      " [8 4]]\n"
     ]
    }
   ],
   "source": [
    "a = np.array([[7],[5],[8]])\n",
    "b = np.array([[2],[3],[4]])\n",
    "xuxu = np.hstack((a,b))\n",
    "print(xuxu)"
   ]
  },
  {
   "cell_type": "markdown",
   "metadata": {
    "id": "-WZ4ck5aQHDn"
   },
   "source": [
    "### append"
   ]
  },
  {
   "cell_type": "code",
   "execution_count": 44,
   "metadata": {
    "colab": {
     "base_uri": "https://localhost:8080/"
    },
    "executionInfo": {
     "elapsed": 551,
     "status": "ok",
     "timestamp": 1614985555489,
     "user": {
      "displayName": "Abner Cardoso Rodrigues Neto",
      "photoUrl": "",
      "userId": "17964229224599879007"
     },
     "user_tz": 180
    },
    "id": "bd_8KMymQK7w",
    "outputId": "2853bac7-5ffd-40cc-f156-2705340c2580"
   },
   "outputs": [
    {
     "data": {
      "text/plain": [
       "array([1, 2, 3, 2, 3, 4])"
      ]
     },
     "execution_count": 44,
     "metadata": {},
     "output_type": "execute_result"
    }
   ],
   "source": [
    "a = np.array([1,2,3])\n",
    "b = np.array([2,3,4])\n",
    "np.append(a, b) "
   ]
  },
  {
   "cell_type": "code",
   "execution_count": 45,
   "metadata": {
    "colab": {
     "base_uri": "https://localhost:8080/"
    },
    "executionInfo": {
     "elapsed": 1383,
     "status": "ok",
     "timestamp": 1614985607699,
     "user": {
      "displayName": "Abner Cardoso Rodrigues Neto",
      "photoUrl": "",
      "userId": "17964229224599879007"
     },
     "user_tz": 180
    },
    "id": "moUNlJwuSg2D",
    "outputId": "2f6de67b-c9ab-41f7-fb3e-0af85c541cca"
   },
   "outputs": [
    {
     "data": {
      "text/plain": [
       "array([1, 2, 3, 4, 5, 6, 2, 3, 4])"
      ]
     },
     "execution_count": 45,
     "metadata": {},
     "output_type": "execute_result"
    }
   ],
   "source": [
    "a = np.array( [[1,2,3], [4,5,6]] )\n",
    "b = np.array([2,3,4])\n",
    "np.append(a, b) "
   ]
  },
  {
   "cell_type": "code",
   "execution_count": 47,
   "metadata": {
    "colab": {
     "base_uri": "https://localhost:8080/"
    },
    "executionInfo": {
     "elapsed": 644,
     "status": "ok",
     "timestamp": 1614986160856,
     "user": {
      "displayName": "Abner Cardoso Rodrigues Neto",
      "photoUrl": "",
      "userId": "17964229224599879007"
     },
     "user_tz": 180
    },
    "id": "WXChiC_HSn8_",
    "outputId": "76d8d8cc-0d94-4229-995d-4c6197f749e1"
   },
   "outputs": [],
   "source": [
    "a = np.array( [[1,2,3], [4,5,6]] )\n",
    "\n"
   ]
  },
  {
   "cell_type": "code",
   "execution_count": 48,
   "metadata": {},
   "outputs": [],
   "source": [
    "b = np.array([2,3,4]).reshape(1, 3)"
   ]
  },
  {
   "cell_type": "code",
   "execution_count": 51,
   "metadata": {},
   "outputs": [
    {
     "name": "stdout",
     "output_type": "stream",
     "text": [
      "[[1 2 3]\n",
      " [4 5 6]] [[2 3 4]]\n"
     ]
    }
   ],
   "source": [
    "print(a,b)"
   ]
  },
  {
   "cell_type": "code",
   "execution_count": 53,
   "metadata": {},
   "outputs": [
    {
     "data": {
      "text/plain": [
       "array([[1, 2, 3],\n",
       "       [4, 5, 6],\n",
       "       [2, 3, 4]])"
      ]
     },
     "execution_count": 53,
     "metadata": {},
     "output_type": "execute_result"
    }
   ],
   "source": [
    "np.append(a, b, axis=0)"
   ]
  },
  {
   "cell_type": "code",
   "execution_count": 40,
   "metadata": {
    "executionInfo": {
     "elapsed": 486,
     "status": "ok",
     "timestamp": 1614986352479,
     "user": {
      "displayName": "Abner Cardoso Rodrigues Neto",
      "photoUrl": "",
      "userId": "17964229224599879007"
     },
     "user_tz": 180
    },
    "id": "lp3I-5v2quuS"
   },
   "outputs": [],
   "source": [
    "b = np.array([2,3,4])"
   ]
  },
  {
   "cell_type": "code",
   "execution_count": 54,
   "metadata": {
    "colab": {
     "base_uri": "https://localhost:8080/"
    },
    "executionInfo": {
     "elapsed": 549,
     "status": "ok",
     "timestamp": 1614986354460,
     "user": {
      "displayName": "Abner Cardoso Rodrigues Neto",
      "photoUrl": "",
      "userId": "17964229224599879007"
     },
     "user_tz": 180
    },
    "id": "zURBJ6z7r-9K",
    "outputId": "35d368a9-2757-4c0d-8c89-e4156580d1bf"
   },
   "outputs": [
    {
     "name": "stdout",
     "output_type": "stream",
     "text": [
      "[[2 3 4]]\n"
     ]
    }
   ],
   "source": [
    "print(b)"
   ]
  },
  {
   "cell_type": "code",
   "execution_count": 55,
   "metadata": {
    "colab": {
     "base_uri": "https://localhost:8080/"
    },
    "executionInfo": {
     "elapsed": 612,
     "status": "ok",
     "timestamp": 1614986311718,
     "user": {
      "displayName": "Abner Cardoso Rodrigues Neto",
      "photoUrl": "",
      "userId": "17964229224599879007"
     },
     "user_tz": 180
    },
    "id": "bq6T6InIqyZe",
    "outputId": "b2a59820-2039-4a76-a154-95749e4fa9cb"
   },
   "outputs": [
    {
     "data": {
      "text/plain": [
       "(1, 3)"
      ]
     },
     "execution_count": 55,
     "metadata": {},
     "output_type": "execute_result"
    }
   ],
   "source": [
    "b.shape"
   ]
  },
  {
   "cell_type": "code",
   "execution_count": 56,
   "metadata": {
    "colab": {
     "base_uri": "https://localhost:8080/"
    },
    "executionInfo": {
     "elapsed": 510,
     "status": "ok",
     "timestamp": 1614986311914,
     "user": {
      "displayName": "Abner Cardoso Rodrigues Neto",
      "photoUrl": "",
      "userId": "17964229224599879007"
     },
     "user_tz": 180
    },
    "id": "WlF5yFk9prbR",
    "outputId": "82c639e6-c1e0-47a9-d949-f59dd1a74224"
   },
   "outputs": [
    {
     "data": {
      "text/plain": [
       "2"
      ]
     },
     "execution_count": 56,
     "metadata": {},
     "output_type": "execute_result"
    }
   ],
   "source": [
    "b.ndim"
   ]
  },
  {
   "cell_type": "code",
   "execution_count": 79,
   "metadata": {
    "colab": {
     "base_uri": "https://localhost:8080/"
    },
    "executionInfo": {
     "elapsed": 527,
     "status": "ok",
     "timestamp": 1614985989517,
     "user": {
      "displayName": "Abner Cardoso Rodrigues Neto",
      "photoUrl": "",
      "userId": "17964229224599879007"
     },
     "user_tz": 180
    },
    "id": "ngbsFQJ5VXMQ",
    "outputId": "f3fdfb8e-102c-46f6-e66e-8963a39bcc30"
   },
   "outputs": [],
   "source": [
    "a = np.array([[1,2,3,7], [4,5,6,4],[4,5,6,4]] )\n",
    "b = np.array([[2,3,4,6], [1,1,1,4],[1,1,1,4]])\n",
    "c = np.array([[2,3,4,6], [1,1,1,4],[1,1,1,4]])"
   ]
  },
  {
   "cell_type": "code",
   "execution_count": 83,
   "metadata": {},
   "outputs": [
    {
     "data": {
      "text/plain": [
       "array([[1, 2, 3, 7],\n",
       "       [4, 5, 6, 4],\n",
       "       [4, 5, 6, 4],\n",
       "       [2, 3, 4, 6],\n",
       "       [1, 1, 1, 4],\n",
       "       [1, 1, 1, 4]])"
      ]
     },
     "execution_count": 83,
     "metadata": {},
     "output_type": "execute_result"
    }
   ],
   "source": [
    "np.append(a, b,  axis=0)\n"
   ]
  },
  {
   "cell_type": "markdown",
   "metadata": {
    "id": "3S-1jNMP9Xi6"
   },
   "source": [
    "### Concatenação Arrays"
   ]
  },
  {
   "cell_type": "markdown",
   "metadata": {
    "id": "Gn-gccxC9Xi6"
   },
   "source": [
    "Podemos unir 2 ou mais arrays, lateralmente ou verticalmente."
   ]
  },
  {
   "cell_type": "code",
   "execution_count": 84,
   "metadata": {
    "colab": {
     "base_uri": "https://localhost:8080/"
    },
    "executionInfo": {
     "elapsed": 551,
     "status": "ok",
     "timestamp": 1614987267905,
     "user": {
      "displayName": "Abner Cardoso Rodrigues Neto",
      "photoUrl": "",
      "userId": "17964229224599879007"
     },
     "user_tz": 180
    },
    "id": "sutYduZi9Xi6",
    "outputId": "4425df2b-cda7-46ad-d69c-911df8c4e60d"
   },
   "outputs": [
    {
     "data": {
      "text/plain": [
       "array([0, 1, 2, 3, 4, 5, 6, 7, 8])"
      ]
     },
     "execution_count": 84,
     "metadata": {},
     "output_type": "execute_result"
    }
   ],
   "source": [
    "array = np.array([0, 1, 2, 3, 4, 5, 6, 7, 8])\n",
    "array"
   ]
  },
  {
   "cell_type": "code",
   "execution_count": 85,
   "metadata": {
    "colab": {
     "base_uri": "https://localhost:8080/"
    },
    "executionInfo": {
     "elapsed": 526,
     "status": "ok",
     "timestamp": 1614987277118,
     "user": {
      "displayName": "Abner Cardoso Rodrigues Neto",
      "photoUrl": "",
      "userId": "17964229224599879007"
     },
     "user_tz": 180
    },
    "id": "5psHP4k19Xi7",
    "outputId": "4e6c1bb2-bf5d-4453-cd55-99dbd388c92b"
   },
   "outputs": [
    {
     "data": {
      "text/plain": [
       "array([[0, 1, 2],\n",
       "       [3, 4, 5],\n",
       "       [6, 7, 8]])"
      ]
     },
     "execution_count": 85,
     "metadata": {},
     "output_type": "execute_result"
    }
   ],
   "source": [
    "array2D_1 = array.reshape((3,3))\n",
    "array2D_1"
   ]
  },
  {
   "cell_type": "code",
   "execution_count": 86,
   "metadata": {
    "executionInfo": {
     "elapsed": 636,
     "status": "ok",
     "timestamp": 1614987284387,
     "user": {
      "displayName": "Abner Cardoso Rodrigues Neto",
      "photoUrl": "",
      "userId": "17964229224599879007"
     },
     "user_tz": 180
    },
    "id": "6JkdxpPh9Xi7"
   },
   "outputs": [],
   "source": [
    "array2D_2 = np.array([10, 11, 12, 13, 14, 15, 16, 17, 18]).reshape((3,3))"
   ]
  },
  {
   "cell_type": "code",
   "execution_count": 87,
   "metadata": {
    "colab": {
     "base_uri": "https://localhost:8080/"
    },
    "executionInfo": {
     "elapsed": 511,
     "status": "ok",
     "timestamp": 1614987296290,
     "user": {
      "displayName": "Abner Cardoso Rodrigues Neto",
      "photoUrl": "",
      "userId": "17964229224599879007"
     },
     "user_tz": 180
    },
    "id": "K9x_5thkvmSp",
    "outputId": "55df6748-eb7a-4363-f0c7-94b4df94454f"
   },
   "outputs": [
    {
     "name": "stdout",
     "output_type": "stream",
     "text": [
      "[[10 11 12]\n",
      " [13 14 15]\n",
      " [16 17 18]]\n"
     ]
    }
   ],
   "source": [
    "print(array2D_2)"
   ]
  },
  {
   "cell_type": "code",
   "execution_count": 88,
   "metadata": {
    "colab": {
     "base_uri": "https://localhost:8080/"
    },
    "executionInfo": {
     "elapsed": 559,
     "status": "ok",
     "timestamp": 1614987310071,
     "user": {
      "displayName": "Abner Cardoso Rodrigues Neto",
      "photoUrl": "",
      "userId": "17964229224599879007"
     },
     "user_tz": 180
    },
    "id": "FWT3NasB9Xi7",
    "outputId": "fc530cf2-1190-419f-f137-abfbcb609f78"
   },
   "outputs": [
    {
     "data": {
      "text/plain": [
       "array([[ 0,  1,  2],\n",
       "       [ 3,  4,  5],\n",
       "       [ 6,  7,  8],\n",
       "       [10, 11, 12],\n",
       "       [13, 14, 15],\n",
       "       [16, 17, 18]])"
      ]
     },
     "execution_count": 88,
     "metadata": {},
     "output_type": "execute_result"
    }
   ],
   "source": [
    "# concatenação vertical\n",
    "np.concatenate((array2D_1, array2D_2))"
   ]
  },
  {
   "cell_type": "code",
   "execution_count": 97,
   "metadata": {
    "colab": {
     "base_uri": "https://localhost:8080/"
    },
    "executionInfo": {
     "elapsed": 523,
     "status": "ok",
     "timestamp": 1614987346115,
     "user": {
      "displayName": "Abner Cardoso Rodrigues Neto",
      "photoUrl": "",
      "userId": "17964229224599879007"
     },
     "user_tz": 180
    },
    "id": "FGu-zVtW9Xi7",
    "outputId": "4c62474f-826e-419e-c007-a18f04d6edc3"
   },
   "outputs": [
    {
     "data": {
      "text/plain": [
       "array([[ 0,  1,  2, 10, 11, 12],\n",
       "       [ 3,  4,  5, 13, 14, 15],\n",
       "       [ 6,  7,  8, 16, 17, 18]])"
      ]
     },
     "execution_count": 97,
     "metadata": {},
     "output_type": "execute_result"
    }
   ],
   "source": [
    "# concatenação horizontal\n",
    "np.concatenate((array2D_1,array2D_2),axis=1)"
   ]
  },
  {
   "cell_type": "code",
   "execution_count": 98,
   "metadata": {
    "colab": {
     "base_uri": "https://localhost:8080/"
    },
    "executionInfo": {
     "elapsed": 527,
     "status": "ok",
     "timestamp": 1614987378675,
     "user": {
      "displayName": "Abner Cardoso Rodrigues Neto",
      "photoUrl": "",
      "userId": "17964229224599879007"
     },
     "user_tz": 180
    },
    "id": "2wRZQ6sd9Xi8",
    "outputId": "32742a28-aa5e-4a12-86fe-efc787808e07"
   },
   "outputs": [
    {
     "data": {
      "text/plain": [
       "array([[ 0,  1,  2],\n",
       "       [ 3,  4,  5],\n",
       "       [ 6,  7,  8],\n",
       "       [10, 11, 12],\n",
       "       [13, 14, 15],\n",
       "       [16, 17, 18],\n",
       "       [ 0,  1,  2],\n",
       "       [ 3,  4,  5],\n",
       "       [ 6,  7,  8],\n",
       "       [ 0,  1,  2],\n",
       "       [ 3,  4,  5],\n",
       "       [ 6,  7,  8]])"
      ]
     },
     "execution_count": 98,
     "metadata": {},
     "output_type": "execute_result"
    }
   ],
   "source": [
    "# E como concatenar mais de 2 arrays\n",
    "np.concatenate((array2D_1, array2D_2, array2D_1, array2D_1))"
   ]
  },
  {
   "cell_type": "code",
   "execution_count": 99,
   "metadata": {
    "id": "ZjIcO8yI9Xi9"
   },
   "outputs": [
    {
     "data": {
      "text/plain": [
       "array([[0, 1, 2],\n",
       "       [3, 4, 5],\n",
       "       [6, 7, 8]])"
      ]
     },
     "execution_count": 99,
     "metadata": {},
     "output_type": "execute_result"
    }
   ],
   "source": [
    "\n",
    "array2D_1"
   ]
  },
  {
   "cell_type": "code",
   "execution_count": 105,
   "metadata": {
    "id": "9lW6NfeS9Xi9"
   },
   "outputs": [
    {
     "ename": "ValueError",
     "evalue": "cannot reshape array of size 4 into shape (4,4)",
     "output_type": "error",
     "traceback": [
      "\u001b[1;31m---------------------------------------------------------------------------\u001b[0m",
      "\u001b[1;31mValueError\u001b[0m                                Traceback (most recent call last)",
      "\u001b[1;32m~\\AppData\\Local\\Temp/ipykernel_3144/1475607207.py\u001b[0m in \u001b[0;36m<module>\u001b[1;34m\u001b[0m\n\u001b[1;32m----> 1\u001b[1;33m \u001b[0mnp\u001b[0m\u001b[1;33m.\u001b[0m\u001b[0mconcatenate\u001b[0m\u001b[1;33m(\u001b[0m\u001b[1;33m(\u001b[0m\u001b[0marray2D_1\u001b[0m\u001b[1;33m,\u001b[0m \u001b[0mnp\u001b[0m\u001b[1;33m.\u001b[0m\u001b[0marange\u001b[0m\u001b[1;33m(\u001b[0m\u001b[1;36m4\u001b[0m\u001b[1;33m)\u001b[0m\u001b[1;33m.\u001b[0m\u001b[0mreshape\u001b[0m\u001b[1;33m(\u001b[0m\u001b[1;36m4\u001b[0m\u001b[1;33m,\u001b[0m\u001b[1;36m4\u001b[0m\u001b[1;33m)\u001b[0m\u001b[1;33m)\u001b[0m\u001b[1;33m)\u001b[0m\u001b[1;33m\u001b[0m\u001b[1;33m\u001b[0m\u001b[0m\n\u001b[0m",
      "\u001b[1;31mValueError\u001b[0m: cannot reshape array of size 4 into shape (4,4)"
     ]
    }
   ],
   "source": [
    "np.concatenate((array2D_1, np.arange(4).reshape(4,4)))"
   ]
  },
  {
   "cell_type": "markdown",
   "metadata": {
    "id": "t0N3tOsj9Xiv"
   },
   "source": [
    "## Funções Matemáticas"
   ]
  },
  {
   "cell_type": "markdown",
   "metadata": {
    "id": "IJeTrW0j9Xiv"
   },
   "source": [
    "O Numpy possui algumas funções e submódulos que auxiliam o dia a dia do cientista."
   ]
  },
  {
   "cell_type": "code",
   "execution_count": 106,
   "metadata": {
    "colab": {
     "base_uri": "https://localhost:8080/"
    },
    "executionInfo": {
     "elapsed": 547,
     "status": "ok",
     "timestamp": 1614987454696,
     "user": {
      "displayName": "Abner Cardoso Rodrigues Neto",
      "photoUrl": "",
      "userId": "17964229224599879007"
     },
     "user_tz": 180
    },
    "id": "EibM4n9u9Xiv",
    "outputId": "977b43c5-9136-47d2-f21d-d289c35a55b8"
   },
   "outputs": [
    {
     "data": {
      "text/plain": [
       "2.5"
      ]
     },
     "execution_count": 106,
     "metadata": {},
     "output_type": "execute_result"
    }
   ],
   "source": [
    "# Média\n",
    "np.mean( [1,2,3,4] )"
   ]
  },
  {
   "cell_type": "code",
   "execution_count": 107,
   "metadata": {
    "colab": {
     "base_uri": "https://localhost:8080/"
    },
    "executionInfo": {
     "elapsed": 520,
     "status": "ok",
     "timestamp": 1614987561949,
     "user": {
      "displayName": "Abner Cardoso Rodrigues Neto",
      "photoUrl": "",
      "userId": "17964229224599879007"
     },
     "user_tz": 180
    },
    "id": "u7cf9stBwmjK",
    "outputId": "1ca3552b-4215-46b0-c895-6e79560cfe6c"
   },
   "outputs": [
    {
     "data": {
      "text/plain": [
       "10"
      ]
     },
     "execution_count": 107,
     "metadata": {},
     "output_type": "execute_result"
    }
   ],
   "source": [
    "np.sum([1,2,3,4] )"
   ]
  },
  {
   "cell_type": "code",
   "execution_count": 108,
   "metadata": {
    "colab": {
     "base_uri": "https://localhost:8080/"
    },
    "executionInfo": {
     "elapsed": 538,
     "status": "ok",
     "timestamp": 1614987456705,
     "user": {
      "displayName": "Abner Cardoso Rodrigues Neto",
      "photoUrl": "",
      "userId": "17964229224599879007"
     },
     "user_tz": 180
    },
    "id": "GIxTXQrH9Xix",
    "outputId": "32849bab-11b6-4be9-9fed-c9b4d2e049d5"
   },
   "outputs": [
    {
     "data": {
      "text/plain": [
       "1.118033988749895"
      ]
     },
     "execution_count": 108,
     "metadata": {},
     "output_type": "execute_result"
    }
   ],
   "source": [
    "# Desvio Padrão\n",
    "np.std([1,2,3,4])"
   ]
  },
  {
   "cell_type": "code",
   "execution_count": 109,
   "metadata": {
    "colab": {
     "base_uri": "https://localhost:8080/"
    },
    "executionInfo": {
     "elapsed": 554,
     "status": "ok",
     "timestamp": 1614987458654,
     "user": {
      "displayName": "Abner Cardoso Rodrigues Neto",
      "photoUrl": "",
      "userId": "17964229224599879007"
     },
     "user_tz": 180
    },
    "id": "nJseYU7ZVHFz",
    "outputId": "4d5d46b3-7af4-402b-c279-c329746cf6cd"
   },
   "outputs": [
    {
     "data": {
      "text/plain": [
       "2.5"
      ]
     },
     "execution_count": 109,
     "metadata": {},
     "output_type": "execute_result"
    }
   ],
   "source": [
    "#mediana\n",
    "np.median([1,2,3,4])"
   ]
  },
  {
   "cell_type": "code",
   "execution_count": 110,
   "metadata": {
    "colab": {
     "base_uri": "https://localhost:8080/"
    },
    "executionInfo": {
     "elapsed": 487,
     "status": "ok",
     "timestamp": 1614987528032,
     "user": {
      "displayName": "Abner Cardoso Rodrigues Neto",
      "photoUrl": "",
      "userId": "17964229224599879007"
     },
     "user_tz": 180
    },
    "id": "AAhSTHYCwfey",
    "outputId": "c2edf4c1-cf1e-4219-f975-7aba366b1efa"
   },
   "outputs": [
    {
     "name": "stdout",
     "output_type": "stream",
     "text": [
      "[[0 1 2]\n",
      " [3 4 5]\n",
      " [6 7 8]]\n"
     ]
    }
   ],
   "source": [
    "print(array2D_1)"
   ]
  },
  {
   "cell_type": "code",
   "execution_count": 111,
   "metadata": {
    "colab": {
     "base_uri": "https://localhost:8080/"
    },
    "executionInfo": {
     "elapsed": 613,
     "status": "ok",
     "timestamp": 1614987674871,
     "user": {
      "displayName": "Abner Cardoso Rodrigues Neto",
      "photoUrl": "",
      "userId": "17964229224599879007"
     },
     "user_tz": 180
    },
    "id": "7aIlG_FvwhIl",
    "outputId": "8c5d272b-1b33-473f-81ca-0bddb336eccf"
   },
   "outputs": [
    {
     "data": {
      "text/plain": [
       "array([1., 4., 7.])"
      ]
     },
     "execution_count": 111,
     "metadata": {},
     "output_type": "execute_result"
    }
   ],
   "source": [
    "np.mean( array2D_1, axis=1 )"
   ]
  },
  {
   "cell_type": "markdown",
   "metadata": {
    "id": "eJMnJYv-Vh3D"
   },
   "source": [
    "As funções acima aceitam axis"
   ]
  },
  {
   "cell_type": "markdown",
   "metadata": {
    "id": "Z6JUay0n9Xiz"
   },
   "source": [
    "O np.arange cria um vetor espaçado entre dois números."
   ]
  },
  {
   "cell_type": "code",
   "execution_count": 112,
   "metadata": {
    "executionInfo": {
     "elapsed": 526,
     "status": "ok",
     "timestamp": 1614988032279,
     "user": {
      "displayName": "Abner Cardoso Rodrigues Neto",
      "photoUrl": "",
      "userId": "17964229224599879007"
     },
     "user_tz": 180
    },
    "id": "RCk6OdPR9Xi0"
   },
   "outputs": [],
   "source": [
    "# np.arange\n",
    "x = np.arange(start=1, stop=20, step=2) #as 3 opçoes do arange"
   ]
  },
  {
   "cell_type": "code",
   "execution_count": 113,
   "metadata": {
    "colab": {
     "base_uri": "https://localhost:8080/"
    },
    "executionInfo": {
     "elapsed": 516,
     "status": "ok",
     "timestamp": 1614988386256,
     "user": {
      "displayName": "Abner Cardoso Rodrigues Neto",
      "photoUrl": "",
      "userId": "17964229224599879007"
     },
     "user_tz": 180
    },
    "id": "DMaNUShozdpU",
    "outputId": "2345afe5-9024-4078-d984-32afd62f3d24"
   },
   "outputs": [
    {
     "data": {
      "text/plain": [
       "array([5. , 5.5, 6. , 6.5, 7. , 7.5, 8. , 8.5, 9. , 9.5])"
      ]
     },
     "execution_count": 113,
     "metadata": {},
     "output_type": "execute_result"
    }
   ],
   "source": [
    "np.arange(5, 10, 0.5)"
   ]
  },
  {
   "cell_type": "code",
   "execution_count": 114,
   "metadata": {
    "colab": {
     "base_uri": "https://localhost:8080/"
    },
    "executionInfo": {
     "elapsed": 512,
     "status": "ok",
     "timestamp": 1614988037912,
     "user": {
      "displayName": "Abner Cardoso Rodrigues Neto",
      "photoUrl": "",
      "userId": "17964229224599879007"
     },
     "user_tz": 180
    },
    "id": "2B7EfozTyBLw",
    "outputId": "daec2654-b9a1-4211-831e-7173358ca9c2"
   },
   "outputs": [
    {
     "name": "stdout",
     "output_type": "stream",
     "text": [
      "[ 1  3  5  7  9 11 13 15 17 19]\n"
     ]
    }
   ],
   "source": [
    "print(x)"
   ]
  },
  {
   "cell_type": "code",
   "execution_count": 115,
   "metadata": {
    "colab": {
     "base_uri": "https://localhost:8080/"
    },
    "executionInfo": {
     "elapsed": 529,
     "status": "ok",
     "timestamp": 1614988104077,
     "user": {
      "displayName": "Abner Cardoso Rodrigues Neto",
      "photoUrl": "",
      "userId": "17964229224599879007"
     },
     "user_tz": 180
    },
    "id": "1rzlrLCVxqz6",
    "outputId": "2f470a36-edc7-4941-f927-acb560d15869"
   },
   "outputs": [
    {
     "name": "stdout",
     "output_type": "stream",
     "text": [
      "[ 5 19 15  9  7 13 11 17  3  1]\n"
     ]
    }
   ],
   "source": [
    "np.random.shuffle(x)\n",
    "print(x)"
   ]
  },
  {
   "cell_type": "markdown",
   "metadata": {
    "id": "D5Q0EmdB9Xi1"
   },
   "source": [
    "np.linspace gera um array de n números entre dois valores."
   ]
  },
  {
   "cell_type": "code",
   "execution_count": 116,
   "metadata": {
    "colab": {
     "base_uri": "https://localhost:8080/"
    },
    "executionInfo": {
     "elapsed": 595,
     "status": "ok",
     "timestamp": 1614988593492,
     "user": {
      "displayName": "Abner Cardoso Rodrigues Neto",
      "photoUrl": "",
      "userId": "17964229224599879007"
     },
     "user_tz": 180
    },
    "id": "i2RexRk49Xi1",
    "outputId": "8f7fe757-5a12-4188-bb6a-3680785ae1fd"
   },
   "outputs": [
    {
     "data": {
      "text/plain": [
       "array([ 1.        ,  1.18367347,  1.36734694,  1.55102041,  1.73469388,\n",
       "        1.91836735,  2.10204082,  2.28571429,  2.46938776,  2.65306122,\n",
       "        2.83673469,  3.02040816,  3.20408163,  3.3877551 ,  3.57142857,\n",
       "        3.75510204,  3.93877551,  4.12244898,  4.30612245,  4.48979592,\n",
       "        4.67346939,  4.85714286,  5.04081633,  5.2244898 ,  5.40816327,\n",
       "        5.59183673,  5.7755102 ,  5.95918367,  6.14285714,  6.32653061,\n",
       "        6.51020408,  6.69387755,  6.87755102,  7.06122449,  7.24489796,\n",
       "        7.42857143,  7.6122449 ,  7.79591837,  7.97959184,  8.16326531,\n",
       "        8.34693878,  8.53061224,  8.71428571,  8.89795918,  9.08163265,\n",
       "        9.26530612,  9.44897959,  9.63265306,  9.81632653, 10.        ])"
      ]
     },
     "execution_count": 116,
     "metadata": {},
     "output_type": "execute_result"
    }
   ],
   "source": [
    "# np.linspace\n",
    "np.linspace(start=1, stop=10, num=50)"
   ]
  },
  {
   "cell_type": "code",
   "execution_count": 117,
   "metadata": {
    "colab": {
     "base_uri": "https://localhost:8080/"
    },
    "executionInfo": {
     "elapsed": 582,
     "status": "ok",
     "timestamp": 1614988624822,
     "user": {
      "displayName": "Abner Cardoso Rodrigues Neto",
      "photoUrl": "",
      "userId": "17964229224599879007"
     },
     "user_tz": 180
    },
    "id": "UCf4J90R9Xi1",
    "outputId": "04bc315e-cbb1-4f17-db0b-3536327344e8"
   },
   "outputs": [
    {
     "data": {
      "text/plain": [
       "array([[0, 1, 2],\n",
       "       [3, 4, 5],\n",
       "       [6, 7, 8]])"
      ]
     },
     "execution_count": 117,
     "metadata": {},
     "output_type": "execute_result"
    }
   ],
   "source": [
    "# np.where \n",
    "x = np.arange(9).reshape(3, 3)\n",
    "x\n"
   ]
  },
  {
   "cell_type": "code",
   "execution_count": 118,
   "metadata": {
    "colab": {
     "base_uri": "https://localhost:8080/"
    },
    "executionInfo": {
     "elapsed": 532,
     "status": "ok",
     "timestamp": 1614988627497,
     "user": {
      "displayName": "Abner Cardoso Rodrigues Neto",
      "photoUrl": "",
      "userId": "17964229224599879007"
     },
     "user_tz": 180
    },
    "id": "j2apQvCD9Xi2",
    "outputId": "df4392b8-81e9-4203-f6b4-b471974f35b7"
   },
   "outputs": [
    {
     "data": {
      "text/plain": [
       "(array([1, 1, 1, 2, 2, 2], dtype=int64),\n",
       " array([0, 1, 2, 0, 1, 2], dtype=int64))"
      ]
     },
     "execution_count": 118,
     "metadata": {},
     "output_type": "execute_result"
    }
   ],
   "source": [
    "np.where( x > 2 )"
   ]
  },
  {
   "cell_type": "code",
   "execution_count": 119,
   "metadata": {
    "colab": {
     "base_uri": "https://localhost:8080/"
    },
    "executionInfo": {
     "elapsed": 489,
     "status": "ok",
     "timestamp": 1614988679979,
     "user": {
      "displayName": "Abner Cardoso Rodrigues Neto",
      "photoUrl": "",
      "userId": "17964229224599879007"
     },
     "user_tz": 180
    },
    "id": "O-UC9E-G9Xi2",
    "outputId": "5bdd4cff-369c-458b-c19c-46828f970fda"
   },
   "outputs": [
    {
     "data": {
      "text/plain": [
       "array([0, 2, 4, 6, 8])"
      ]
     },
     "execution_count": 119,
     "metadata": {},
     "output_type": "execute_result"
    }
   ],
   "source": [
    "x[np.where( x%2 == 0 )]"
   ]
  },
  {
   "cell_type": "markdown",
   "metadata": {
    "id": "oOknlW1U9Xi3"
   },
   "source": [
    "O submódulo random do numpy pode ser utilizado para gerar números aleatórios, selecionar e embaralhar números."
   ]
  },
  {
   "cell_type": "code",
   "execution_count": 120,
   "metadata": {
    "colab": {
     "base_uri": "https://localhost:8080/"
    },
    "executionInfo": {
     "elapsed": 596,
     "status": "ok",
     "timestamp": 1614988805391,
     "user": {
      "displayName": "Abner Cardoso Rodrigues Neto",
      "photoUrl": "",
      "userId": "17964229224599879007"
     },
     "user_tz": 180
    },
    "id": "a_MjRoVa9Xi4",
    "outputId": "97460295-067d-47b0-9216-ad94d8f019ce"
   },
   "outputs": [
    {
     "data": {
      "text/plain": [
       "array([3, 1, 4])"
      ]
     },
     "execution_count": 120,
     "metadata": {},
     "output_type": "execute_result"
    }
   ],
   "source": [
    "# escolha aleatória\n",
    "np.random.choice([1,2,3,4,5], 3, replace=False)"
   ]
  },
  {
   "cell_type": "code",
   "execution_count": 121,
   "metadata": {
    "executionInfo": {
     "elapsed": 530,
     "status": "ok",
     "timestamp": 1614988705764,
     "user": {
      "displayName": "Abner Cardoso Rodrigues Neto",
      "photoUrl": "",
      "userId": "17964229224599879007"
     },
     "user_tz": 180
    },
    "id": "ucH-OHuw9Xi5"
   },
   "outputs": [],
   "source": [
    "# embaralhamento\n",
    "x = [1,2,3]\n",
    "np.random.shuffle(x)"
   ]
  },
  {
   "cell_type": "code",
   "execution_count": 122,
   "metadata": {
    "colab": {
     "base_uri": "https://localhost:8080/"
    },
    "executionInfo": {
     "elapsed": 630,
     "status": "ok",
     "timestamp": 1614988708456,
     "user": {
      "displayName": "Abner Cardoso Rodrigues Neto",
      "photoUrl": "",
      "userId": "17964229224599879007"
     },
     "user_tz": 180
    },
    "id": "qsksRm_f9Xi5",
    "outputId": "a8f55243-3600-46dd-915a-2063392a7877"
   },
   "outputs": [
    {
     "data": {
      "text/plain": [
       "[1, 2, 3]"
      ]
     },
     "execution_count": 122,
     "metadata": {},
     "output_type": "execute_result"
    }
   ],
   "source": [
    "x"
   ]
  },
  {
   "cell_type": "markdown",
   "metadata": {
    "id": "wZGPJOqu9Xi-"
   },
   "source": [
    "## Operaçõe entre Arrays"
   ]
  },
  {
   "cell_type": "code",
   "execution_count": 141,
   "metadata": {
    "executionInfo": {
     "elapsed": 1050,
     "status": "ok",
     "timestamp": 1614988857583,
     "user": {
      "displayName": "Abner Cardoso Rodrigues Neto",
      "photoUrl": "",
      "userId": "17964229224599879007"
     },
     "user_tz": 180
    },
    "id": "VfNHtIfO9Xi-"
   },
   "outputs": [],
   "source": [
    "start = time.time() \n",
    "array1 = np.arange(9)\n",
    "array2 = np.arange(9)"
   ]
  },
  {
   "cell_type": "code",
   "execution_count": 124,
   "metadata": {
    "colab": {
     "base_uri": "https://localhost:8080/"
    },
    "executionInfo": {
     "elapsed": 1058,
     "status": "ok",
     "timestamp": 1614988888701,
     "user": {
      "displayName": "Abner Cardoso Rodrigues Neto",
      "photoUrl": "",
      "userId": "17964229224599879007"
     },
     "user_tz": 180
    },
    "id": "XNmqNVZD1p2p",
    "outputId": "0c7b6634-0fde-4761-98e2-223743d05373"
   },
   "outputs": [
    {
     "name": "stdout",
     "output_type": "stream",
     "text": [
      "[0 1 2 3 4 5 6 7 8]\n",
      "[0 1 2 3 4 5 6 7 8]\n"
     ]
    }
   ],
   "source": [
    "print(array1)\n",
    "print(array2)"
   ]
  },
  {
   "cell_type": "code",
   "execution_count": 125,
   "metadata": {
    "colab": {
     "base_uri": "https://localhost:8080/"
    },
    "executionInfo": {
     "elapsed": 500,
     "status": "ok",
     "timestamp": 1614989025325,
     "user": {
      "displayName": "Abner Cardoso Rodrigues Neto",
      "photoUrl": "",
      "userId": "17964229224599879007"
     },
     "user_tz": 180
    },
    "id": "GVILhwLL9Xi-",
    "outputId": "70830270-7134-45cb-bc9a-c69921161bdd"
   },
   "outputs": [
    {
     "name": "stdout",
     "output_type": "stream",
     "text": [
      "[ 0  2  4  6  8 10 12 14 16]\n"
     ]
    }
   ],
   "source": [
    "# Soma\n",
    "print(array1 + array2)"
   ]
  },
  {
   "cell_type": "code",
   "execution_count": 126,
   "metadata": {
    "colab": {
     "base_uri": "https://localhost:8080/"
    },
    "executionInfo": {
     "elapsed": 692,
     "status": "ok",
     "timestamp": 1614988899364,
     "user": {
      "displayName": "Abner Cardoso Rodrigues Neto",
      "photoUrl": "",
      "userId": "17964229224599879007"
     },
     "user_tz": 180
    },
    "id": "gcDWIAH09Xi_",
    "outputId": "4fadbbb7-8726-45b7-8a44-fd2903f6a1b7"
   },
   "outputs": [
    {
     "data": {
      "text/plain": [
       "array([0, 0, 0, 0, 0, 0, 0, 0, 0])"
      ]
     },
     "execution_count": 126,
     "metadata": {},
     "output_type": "execute_result"
    }
   ],
   "source": [
    "# Subtração\n",
    "array1 - array2"
   ]
  },
  {
   "cell_type": "code",
   "execution_count": 127,
   "metadata": {
    "colab": {
     "base_uri": "https://localhost:8080/"
    },
    "executionInfo": {
     "elapsed": 530,
     "status": "ok",
     "timestamp": 1614988903535,
     "user": {
      "displayName": "Abner Cardoso Rodrigues Neto",
      "photoUrl": "",
      "userId": "17964229224599879007"
     },
     "user_tz": 180
    },
    "id": "_F8o8fXI9Xi_",
    "outputId": "2d3fa315-4c66-4f0f-a531-8596d5b0614b"
   },
   "outputs": [
    {
     "name": "stderr",
     "output_type": "stream",
     "text": [
      "C:\\Users\\lucas\\AppData\\Local\\Temp/ipykernel_3144/1676965899.py:2: RuntimeWarning: invalid value encountered in true_divide\n",
      "  array1/array2\n"
     ]
    },
    {
     "data": {
      "text/plain": [
       "array([nan,  1.,  1.,  1.,  1.,  1.,  1.,  1.,  1.])"
      ]
     },
     "execution_count": 127,
     "metadata": {},
     "output_type": "execute_result"
    }
   ],
   "source": [
    "# Divisão\n",
    "array1/array2"
   ]
  },
  {
   "cell_type": "code",
   "execution_count": 128,
   "metadata": {
    "colab": {
     "base_uri": "https://localhost:8080/"
    },
    "executionInfo": {
     "elapsed": 850,
     "status": "ok",
     "timestamp": 1614988920011,
     "user": {
      "displayName": "Abner Cardoso Rodrigues Neto",
      "photoUrl": "",
      "userId": "17964229224599879007"
     },
     "user_tz": 180
    },
    "id": "Sd9tWP5z9Xi_",
    "outputId": "d91d22bd-9e14-483d-e9d0-317104142113"
   },
   "outputs": [
    {
     "data": {
      "text/plain": [
       "array([ 0,  1,  4,  9, 16, 25, 36, 49, 64])"
      ]
     },
     "execution_count": 128,
     "metadata": {},
     "output_type": "execute_result"
    }
   ],
   "source": [
    "# Multiplicação\n",
    "array1*array2"
   ]
  },
  {
   "cell_type": "markdown",
   "metadata": {
    "id": "4XcyvBKx9XjA"
   },
   "source": [
    "E se tentarmos fazer operações com listas???"
   ]
  },
  {
   "cell_type": "code",
   "execution_count": 129,
   "metadata": {
    "colab": {
     "base_uri": "https://localhost:8080/"
    },
    "executionInfo": {
     "elapsed": 517,
     "status": "ok",
     "timestamp": 1614988928920,
     "user": {
      "displayName": "Abner Cardoso Rodrigues Neto",
      "photoUrl": "",
      "userId": "17964229224599879007"
     },
     "user_tz": 180
    },
    "id": "weWQTOWV9XjB",
    "outputId": "2c84e335-cfda-479e-8000-9adc846caa8c"
   },
   "outputs": [
    {
     "data": {
      "text/plain": [
       "[1, 2, 3, 4, 5, 6]"
      ]
     },
     "execution_count": 129,
     "metadata": {},
     "output_type": "execute_result"
    }
   ],
   "source": [
    "[1,2,3] + [4, 5, 6]"
   ]
  },
  {
   "cell_type": "code",
   "execution_count": 133,
   "metadata": {
    "id": "lA94JPdB9XjB"
   },
   "outputs": [
    {
     "ename": "TypeError",
     "evalue": "can't multiply sequence by non-int of type 'list'",
     "output_type": "error",
     "traceback": [
      "\u001b[1;31m---------------------------------------------------------------------------\u001b[0m",
      "\u001b[1;31mTypeError\u001b[0m                                 Traceback (most recent call last)",
      "\u001b[1;32m~\\AppData\\Local\\Temp/ipykernel_3144/2952278917.py\u001b[0m in \u001b[0;36m<module>\u001b[1;34m\u001b[0m\n\u001b[1;32m----> 1\u001b[1;33m \u001b[1;33m[\u001b[0m\u001b[1;36m1\u001b[0m\u001b[1;33m,\u001b[0m\u001b[1;36m2\u001b[0m\u001b[1;33m,\u001b[0m\u001b[1;36m3\u001b[0m\u001b[1;33m]\u001b[0m\u001b[1;33m*\u001b[0m\u001b[1;33m[\u001b[0m\u001b[1;36m4\u001b[0m\u001b[1;33m,\u001b[0m \u001b[1;36m5\u001b[0m\u001b[1;33m,\u001b[0m \u001b[1;36m6\u001b[0m\u001b[1;33m]\u001b[0m\u001b[1;33m\u001b[0m\u001b[1;33m\u001b[0m\u001b[0m\n\u001b[0m",
      "\u001b[1;31mTypeError\u001b[0m: can't multiply sequence by non-int of type 'list'"
     ]
    }
   ],
   "source": [
    "[1,2,3]*[4, 5, 6]"
   ]
  },
  {
   "cell_type": "code",
   "execution_count": 131,
   "metadata": {
    "id": "S3Yf3a6a9XjB"
   },
   "outputs": [
    {
     "ename": "TypeError",
     "evalue": "unsupported operand type(s) for /: 'list' and 'list'",
     "output_type": "error",
     "traceback": [
      "\u001b[1;31m---------------------------------------------------------------------------\u001b[0m",
      "\u001b[1;31mTypeError\u001b[0m                                 Traceback (most recent call last)",
      "\u001b[1;32m~\\AppData\\Local\\Temp/ipykernel_3144/3569785238.py\u001b[0m in \u001b[0;36m<module>\u001b[1;34m\u001b[0m\n\u001b[1;32m----> 1\u001b[1;33m \u001b[1;33m[\u001b[0m\u001b[1;36m1\u001b[0m\u001b[1;33m,\u001b[0m\u001b[1;36m2\u001b[0m\u001b[1;33m,\u001b[0m\u001b[1;36m3\u001b[0m\u001b[1;33m]\u001b[0m\u001b[1;33m/\u001b[0m\u001b[1;33m[\u001b[0m\u001b[1;36m4\u001b[0m\u001b[1;33m,\u001b[0m \u001b[1;36m5\u001b[0m\u001b[1;33m,\u001b[0m \u001b[1;36m6\u001b[0m\u001b[1;33m]\u001b[0m\u001b[1;33m\u001b[0m\u001b[1;33m\u001b[0m\u001b[0m\n\u001b[0m",
      "\u001b[1;31mTypeError\u001b[0m: unsupported operand type(s) for /: 'list' and 'list'"
     ]
    }
   ],
   "source": [
    "[1,2,3]/[4, 5, 6]"
   ]
  },
  {
   "cell_type": "code",
   "execution_count": 132,
   "metadata": {
    "id": "mNe38sNU9XjB"
   },
   "outputs": [
    {
     "ename": "TypeError",
     "evalue": "unsupported operand type(s) for -: 'list' and 'list'",
     "output_type": "error",
     "traceback": [
      "\u001b[1;31m---------------------------------------------------------------------------\u001b[0m",
      "\u001b[1;31mTypeError\u001b[0m                                 Traceback (most recent call last)",
      "\u001b[1;32m~\\AppData\\Local\\Temp/ipykernel_3144/525601388.py\u001b[0m in \u001b[0;36m<module>\u001b[1;34m\u001b[0m\n\u001b[1;32m----> 1\u001b[1;33m \u001b[1;33m[\u001b[0m\u001b[1;36m1\u001b[0m\u001b[1;33m,\u001b[0m\u001b[1;36m2\u001b[0m\u001b[1;33m,\u001b[0m\u001b[1;36m3\u001b[0m\u001b[1;33m]\u001b[0m\u001b[1;33m-\u001b[0m\u001b[1;33m[\u001b[0m\u001b[1;36m4\u001b[0m\u001b[1;33m,\u001b[0m \u001b[1;36m5\u001b[0m\u001b[1;33m,\u001b[0m \u001b[1;36m6\u001b[0m\u001b[1;33m]\u001b[0m\u001b[1;33m\u001b[0m\u001b[1;33m\u001b[0m\u001b[0m\n\u001b[0m",
      "\u001b[1;31mTypeError\u001b[0m: unsupported operand type(s) for -: 'list' and 'list'"
     ]
    }
   ],
   "source": [
    "[1,2,3]-[4, 5, 6]"
   ]
  },
  {
   "cell_type": "code",
   "execution_count": null,
   "metadata": {
    "id": "NKp8py9f9XjY"
   },
   "outputs": [],
   "source": []
  },
  {
   "cell_type": "markdown",
   "metadata": {
    "id": "YQEDWCptXtSy"
   },
   "source": [
    "# Medir o tempo de execução"
   ]
  },
  {
   "cell_type": "code",
   "execution_count": 134,
   "metadata": {
    "id": "fvoHLaMUXuxG"
   },
   "outputs": [],
   "source": [
    "import time"
   ]
  },
  {
   "cell_type": "code",
   "execution_count": 135,
   "metadata": {
    "id": "nC2N-Z6_X99b"
   },
   "outputs": [
    {
     "name": "stdout",
     "output_type": "stream",
     "text": [
      "0.0\n"
     ]
    }
   ],
   "source": [
    "start = time.time()\n",
    "# codigo a ser mensurado\n",
    "end = time.time()\n",
    "print(end - start)"
   ]
  },
  {
   "cell_type": "code",
   "execution_count": 136,
   "metadata": {
    "colab": {
     "base_uri": "https://localhost:8080/"
    },
    "executionInfo": {
     "elapsed": 692,
     "status": "ok",
     "timestamp": 1614983381442,
     "user": {
      "displayName": "Abner Cardoso Rodrigues Neto",
      "photoUrl": "",
      "userId": "17964229224599879007"
     },
     "user_tz": 180
    },
    "id": "VZD5QhVXX2u4",
    "outputId": "c17d55ce-2811-4a20-a34a-1741992c4118"
   },
   "outputs": [
    {
     "name": "stdout",
     "output_type": "stream",
     "text": [
      "0.0010063648223876953\n"
     ]
    }
   ],
   "source": [
    "size_of_vec = 100\n",
    "\n",
    "# python list\n",
    "start = time.time() \n",
    "\n",
    "X = range(size_of_vec)\n",
    "Y = range(size_of_vec)\n",
    "Z = [X[i] + Y[i] for i in range(len(X)) ]\n",
    "\n",
    "end = time.time()\n",
    "print(end - start)"
   ]
  },
  {
   "cell_type": "code",
   "execution_count": 137,
   "metadata": {
    "colab": {
     "base_uri": "https://localhost:8080/"
    },
    "executionInfo": {
     "elapsed": 560,
     "status": "ok",
     "timestamp": 1614983383199,
     "user": {
      "displayName": "Abner Cardoso Rodrigues Neto",
      "photoUrl": "",
      "userId": "17964229224599879007"
     },
     "user_tz": 180
    },
    "id": "DyBdfrYWYoIc",
    "outputId": "36468d1f-c10c-45ad-cc80-7ca69f6523b1"
   },
   "outputs": [
    {
     "name": "stdout",
     "output_type": "stream",
     "text": [
      "0.0\n"
     ]
    }
   ],
   "source": [
    "#numpy\n",
    "start = time.time() \n",
    "\n",
    "X = np.arange(size_of_vec)\n",
    "Y = np.arange(size_of_vec)\n",
    "Z = X + Y\n",
    "\n",
    "end = time.time()\n",
    "print(end - start)"
   ]
  },
  {
   "cell_type": "code",
   "execution_count": 140,
   "metadata": {
    "id": "5ooQv4oSY0XN"
   },
   "outputs": [
    {
     "name": "stdout",
     "output_type": "stream",
     "text": [
      "Wall time: 0 ns\n"
     ]
    }
   ],
   "source": [
    "%%time\n",
    "\n",
    "X = np.arange(size_of_vec)\n",
    "Y = np.arange(size_of_vec)\n",
    "Z = X + Y"
   ]
  },
  {
   "cell_type": "code",
   "execution_count": null,
   "metadata": {},
   "outputs": [],
   "source": []
  }
 ],
 "metadata": {
  "colab": {
   "collapsed_sections": [],
   "name": "DS_TN02_Aula_05_Numpy",
   "provenance": [
    {
     "file_id": "1X2L4fyhM8DLc7dvuAC7XdmrNxtFSDhNY",
     "timestamp": 1614974324159
    }
   ],
   "toc_visible": true
  },
  "kernelspec": {
   "display_name": "Python 3 (ipykernel)",
   "language": "python",
   "name": "python3"
  },
  "language_info": {
   "codemirror_mode": {
    "name": "ipython",
    "version": 3
   },
   "file_extension": ".py",
   "mimetype": "text/x-python",
   "name": "python",
   "nbconvert_exporter": "python",
   "pygments_lexer": "ipython3",
   "version": "3.9.7"
  },
  "toc": {
   "base_numbering": 1,
   "nav_menu": {},
   "number_sections": true,
   "sideBar": true,
   "skip_h1_title": false,
   "title_cell": "Table of Contents",
   "title_sidebar": "Contents",
   "toc_cell": false,
   "toc_position": {
    "height": "calc(100% - 180px)",
    "left": "10px",
    "top": "150px",
    "width": "252px"
   },
   "toc_section_display": true,
   "toc_window_display": true
  }
 },
 "nbformat": 4,
 "nbformat_minor": 1
}
