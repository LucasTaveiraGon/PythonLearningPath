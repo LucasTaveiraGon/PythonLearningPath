{
 "cells": [
  {
   "cell_type": "markdown",
   "metadata": {
    "id": "4vXy1r9mHs_i"
   },
   "source": [
    "# Agenda"
   ]
  },
  {
   "cell_type": "markdown",
   "metadata": {
    "id": "vtgisR0zHs_j"
   },
   "source": [
    "O objetivo dessa aula é explorar métodos de agrupamento a dataframes, aplicações de funções em colunas e linhas e também demonstrar a utilização de algumas funções específicas.\n"
   ]
  },
  {
   "cell_type": "markdown",
   "metadata": {
    "id": "pMl8bo8qHs_k"
   },
   "source": [
    "**Tópicos**:\n",
    " - Funções Úteis\n",
    " - Agregação de DataFrames (groupby e agg)\n",
    " - Apply, Applymap, map\n",
    " - Exercícios\n"
   ]
  },
  {
   "cell_type": "code",
   "execution_count": 2,
   "metadata": {
    "ExecuteTime": {
     "end_time": "2021-03-11T03:23:00.865947Z",
     "start_time": "2021-03-11T03:23:00.863050Z"
    },
    "executionInfo": {
     "elapsed": 698,
     "status": "ok",
     "timestamp": 1615415504995,
     "user": {
      "displayName": "Abner Cardoso Rodrigues Neto",
      "photoUrl": "",
      "userId": "17964229224599879007"
     },
     "user_tz": 180
    },
    "id": "hCGc2tQKHs_l"
   },
   "outputs": [],
   "source": [
    "import pandas as pd\n",
    "import numpy as np"
   ]
  },
  {
   "cell_type": "code",
   "execution_count": 3,
   "metadata": {
    "ExecuteTime": {
     "end_time": "2021-03-11T03:23:00.915836Z",
     "start_time": "2021-03-11T03:23:00.871451Z"
    },
    "executionInfo": {
     "elapsed": 1258,
     "status": "ok",
     "timestamp": 1615415531379,
     "user": {
      "displayName": "Abner Cardoso Rodrigues Neto",
      "photoUrl": "",
      "userId": "17964229224599879007"
     },
     "user_tz": 180
    },
    "id": "o4opeo59Hs_o"
   },
   "outputs": [
    {
     "data": {
      "text/html": [
       "<div>\n",
       "<style scoped>\n",
       "    .dataframe tbody tr th:only-of-type {\n",
       "        vertical-align: middle;\n",
       "    }\n",
       "\n",
       "    .dataframe tbody tr th {\n",
       "        vertical-align: top;\n",
       "    }\n",
       "\n",
       "    .dataframe thead th {\n",
       "        text-align: right;\n",
       "    }\n",
       "</style>\n",
       "<table border=\"1\" class=\"dataframe\">\n",
       "  <thead>\n",
       "    <tr style=\"text-align: right;\">\n",
       "      <th></th>\n",
       "      <th>#</th>\n",
       "      <th>Name</th>\n",
       "      <th>Type 1</th>\n",
       "      <th>Type 2</th>\n",
       "      <th>HP</th>\n",
       "      <th>Attack</th>\n",
       "      <th>Defense</th>\n",
       "      <th>Sp. Atk</th>\n",
       "      <th>Sp. Def</th>\n",
       "      <th>Speed</th>\n",
       "      <th>Generation</th>\n",
       "      <th>Legendary</th>\n",
       "    </tr>\n",
       "  </thead>\n",
       "  <tbody>\n",
       "    <tr>\n",
       "      <th>0</th>\n",
       "      <td>1</td>\n",
       "      <td>Bulbasaur</td>\n",
       "      <td>Grass</td>\n",
       "      <td>Poison</td>\n",
       "      <td>45</td>\n",
       "      <td>49</td>\n",
       "      <td>49</td>\n",
       "      <td>65</td>\n",
       "      <td>65</td>\n",
       "      <td>45</td>\n",
       "      <td>1</td>\n",
       "      <td>False</td>\n",
       "    </tr>\n",
       "    <tr>\n",
       "      <th>1</th>\n",
       "      <td>2</td>\n",
       "      <td>Ivysaur</td>\n",
       "      <td>Grass</td>\n",
       "      <td>Poison</td>\n",
       "      <td>60</td>\n",
       "      <td>62</td>\n",
       "      <td>63</td>\n",
       "      <td>80</td>\n",
       "      <td>80</td>\n",
       "      <td>60</td>\n",
       "      <td>1</td>\n",
       "      <td>False</td>\n",
       "    </tr>\n",
       "    <tr>\n",
       "      <th>2</th>\n",
       "      <td>3</td>\n",
       "      <td>Venusaur</td>\n",
       "      <td>Grass</td>\n",
       "      <td>Poison</td>\n",
       "      <td>80</td>\n",
       "      <td>82</td>\n",
       "      <td>83</td>\n",
       "      <td>100</td>\n",
       "      <td>100</td>\n",
       "      <td>80</td>\n",
       "      <td>1</td>\n",
       "      <td>False</td>\n",
       "    </tr>\n",
       "    <tr>\n",
       "      <th>3</th>\n",
       "      <td>3</td>\n",
       "      <td>VenusaurMega Venusaur</td>\n",
       "      <td>Grass</td>\n",
       "      <td>Poison</td>\n",
       "      <td>80</td>\n",
       "      <td>100</td>\n",
       "      <td>123</td>\n",
       "      <td>122</td>\n",
       "      <td>120</td>\n",
       "      <td>80</td>\n",
       "      <td>1</td>\n",
       "      <td>False</td>\n",
       "    </tr>\n",
       "    <tr>\n",
       "      <th>4</th>\n",
       "      <td>4</td>\n",
       "      <td>Charmander</td>\n",
       "      <td>Fire</td>\n",
       "      <td>NaN</td>\n",
       "      <td>39</td>\n",
       "      <td>52</td>\n",
       "      <td>43</td>\n",
       "      <td>60</td>\n",
       "      <td>50</td>\n",
       "      <td>65</td>\n",
       "      <td>1</td>\n",
       "      <td>False</td>\n",
       "    </tr>\n",
       "    <tr>\n",
       "      <th>...</th>\n",
       "      <td>...</td>\n",
       "      <td>...</td>\n",
       "      <td>...</td>\n",
       "      <td>...</td>\n",
       "      <td>...</td>\n",
       "      <td>...</td>\n",
       "      <td>...</td>\n",
       "      <td>...</td>\n",
       "      <td>...</td>\n",
       "      <td>...</td>\n",
       "      <td>...</td>\n",
       "      <td>...</td>\n",
       "    </tr>\n",
       "    <tr>\n",
       "      <th>795</th>\n",
       "      <td>719</td>\n",
       "      <td>Diancie</td>\n",
       "      <td>Rock</td>\n",
       "      <td>Fairy</td>\n",
       "      <td>50</td>\n",
       "      <td>100</td>\n",
       "      <td>150</td>\n",
       "      <td>100</td>\n",
       "      <td>150</td>\n",
       "      <td>50</td>\n",
       "      <td>6</td>\n",
       "      <td>True</td>\n",
       "    </tr>\n",
       "    <tr>\n",
       "      <th>796</th>\n",
       "      <td>719</td>\n",
       "      <td>DiancieMega Diancie</td>\n",
       "      <td>Rock</td>\n",
       "      <td>Fairy</td>\n",
       "      <td>50</td>\n",
       "      <td>160</td>\n",
       "      <td>110</td>\n",
       "      <td>160</td>\n",
       "      <td>110</td>\n",
       "      <td>110</td>\n",
       "      <td>6</td>\n",
       "      <td>True</td>\n",
       "    </tr>\n",
       "    <tr>\n",
       "      <th>797</th>\n",
       "      <td>720</td>\n",
       "      <td>HoopaHoopa Confined</td>\n",
       "      <td>Psychic</td>\n",
       "      <td>Ghost</td>\n",
       "      <td>80</td>\n",
       "      <td>110</td>\n",
       "      <td>60</td>\n",
       "      <td>150</td>\n",
       "      <td>130</td>\n",
       "      <td>70</td>\n",
       "      <td>6</td>\n",
       "      <td>True</td>\n",
       "    </tr>\n",
       "    <tr>\n",
       "      <th>798</th>\n",
       "      <td>720</td>\n",
       "      <td>HoopaHoopa Unbound</td>\n",
       "      <td>Psychic</td>\n",
       "      <td>Dark</td>\n",
       "      <td>80</td>\n",
       "      <td>160</td>\n",
       "      <td>60</td>\n",
       "      <td>170</td>\n",
       "      <td>130</td>\n",
       "      <td>80</td>\n",
       "      <td>6</td>\n",
       "      <td>True</td>\n",
       "    </tr>\n",
       "    <tr>\n",
       "      <th>799</th>\n",
       "      <td>721</td>\n",
       "      <td>Volcanion</td>\n",
       "      <td>Fire</td>\n",
       "      <td>Water</td>\n",
       "      <td>80</td>\n",
       "      <td>110</td>\n",
       "      <td>120</td>\n",
       "      <td>130</td>\n",
       "      <td>90</td>\n",
       "      <td>70</td>\n",
       "      <td>6</td>\n",
       "      <td>True</td>\n",
       "    </tr>\n",
       "  </tbody>\n",
       "</table>\n",
       "<p>800 rows × 12 columns</p>\n",
       "</div>"
      ],
      "text/plain": [
       "       #                   Name   Type 1  Type 2  HP  Attack  Defense  \\\n",
       "0      1              Bulbasaur    Grass  Poison  45      49       49   \n",
       "1      2                Ivysaur    Grass  Poison  60      62       63   \n",
       "2      3               Venusaur    Grass  Poison  80      82       83   \n",
       "3      3  VenusaurMega Venusaur    Grass  Poison  80     100      123   \n",
       "4      4             Charmander     Fire     NaN  39      52       43   \n",
       "..   ...                    ...      ...     ...  ..     ...      ...   \n",
       "795  719                Diancie     Rock   Fairy  50     100      150   \n",
       "796  719    DiancieMega Diancie     Rock   Fairy  50     160      110   \n",
       "797  720    HoopaHoopa Confined  Psychic   Ghost  80     110       60   \n",
       "798  720     HoopaHoopa Unbound  Psychic    Dark  80     160       60   \n",
       "799  721              Volcanion     Fire   Water  80     110      120   \n",
       "\n",
       "     Sp. Atk  Sp. Def  Speed  Generation  Legendary  \n",
       "0         65       65     45           1      False  \n",
       "1         80       80     60           1      False  \n",
       "2        100      100     80           1      False  \n",
       "3        122      120     80           1      False  \n",
       "4         60       50     65           1      False  \n",
       "..       ...      ...    ...         ...        ...  \n",
       "795      100      150     50           6       True  \n",
       "796      160      110    110           6       True  \n",
       "797      150      130     70           6       True  \n",
       "798      170      130     80           6       True  \n",
       "799      130       90     70           6       True  \n",
       "\n",
       "[800 rows x 12 columns]"
      ]
     },
     "execution_count": 3,
     "metadata": {},
     "output_type": "execute_result"
    }
   ],
   "source": [
    "df_pokemons = pd.read_csv('pokemon_data.csv')\n",
    "df_pokemons"
   ]
  },
  {
   "cell_type": "code",
   "execution_count": 4,
   "metadata": {
    "ExecuteTime": {
     "end_time": "2021-03-11T03:23:00.933477Z",
     "start_time": "2021-03-11T03:23:00.918237Z"
    },
    "colab": {
     "base_uri": "https://localhost:8080/",
     "height": 261
    },
    "executionInfo": {
     "elapsed": 1329,
     "status": "ok",
     "timestamp": 1615415533320,
     "user": {
      "displayName": "Abner Cardoso Rodrigues Neto",
      "photoUrl": "",
      "userId": "17964229224599879007"
     },
     "user_tz": 180
    },
    "id": "TlHbUr2r7QAA",
    "outputId": "c31bda38-646c-48c2-f915-e4c47cab78cc"
   },
   "outputs": [
    {
     "data": {
      "text/html": [
       "<div>\n",
       "<style scoped>\n",
       "    .dataframe tbody tr th:only-of-type {\n",
       "        vertical-align: middle;\n",
       "    }\n",
       "\n",
       "    .dataframe tbody tr th {\n",
       "        vertical-align: top;\n",
       "    }\n",
       "\n",
       "    .dataframe thead th {\n",
       "        text-align: right;\n",
       "    }\n",
       "</style>\n",
       "<table border=\"1\" class=\"dataframe\">\n",
       "  <thead>\n",
       "    <tr style=\"text-align: right;\">\n",
       "      <th></th>\n",
       "      <th>#</th>\n",
       "      <th>Name</th>\n",
       "      <th>Type 1</th>\n",
       "      <th>Type 2</th>\n",
       "      <th>HP</th>\n",
       "      <th>Attack</th>\n",
       "      <th>Defense</th>\n",
       "      <th>Sp. Atk</th>\n",
       "      <th>Sp. Def</th>\n",
       "      <th>Speed</th>\n",
       "      <th>Generation</th>\n",
       "      <th>Legendary</th>\n",
       "    </tr>\n",
       "  </thead>\n",
       "  <tbody>\n",
       "    <tr>\n",
       "      <th>0</th>\n",
       "      <td>1</td>\n",
       "      <td>Bulbasaur</td>\n",
       "      <td>Grass</td>\n",
       "      <td>Poison</td>\n",
       "      <td>45</td>\n",
       "      <td>49</td>\n",
       "      <td>49</td>\n",
       "      <td>65</td>\n",
       "      <td>65</td>\n",
       "      <td>45</td>\n",
       "      <td>1</td>\n",
       "      <td>False</td>\n",
       "    </tr>\n",
       "    <tr>\n",
       "      <th>1</th>\n",
       "      <td>2</td>\n",
       "      <td>Ivysaur</td>\n",
       "      <td>Grass</td>\n",
       "      <td>Poison</td>\n",
       "      <td>60</td>\n",
       "      <td>62</td>\n",
       "      <td>63</td>\n",
       "      <td>80</td>\n",
       "      <td>80</td>\n",
       "      <td>60</td>\n",
       "      <td>1</td>\n",
       "      <td>False</td>\n",
       "    </tr>\n",
       "    <tr>\n",
       "      <th>2</th>\n",
       "      <td>3</td>\n",
       "      <td>Venusaur</td>\n",
       "      <td>Grass</td>\n",
       "      <td>Poison</td>\n",
       "      <td>80</td>\n",
       "      <td>82</td>\n",
       "      <td>83</td>\n",
       "      <td>100</td>\n",
       "      <td>100</td>\n",
       "      <td>80</td>\n",
       "      <td>1</td>\n",
       "      <td>False</td>\n",
       "    </tr>\n",
       "    <tr>\n",
       "      <th>3</th>\n",
       "      <td>3</td>\n",
       "      <td>VenusaurMega Venusaur</td>\n",
       "      <td>Grass</td>\n",
       "      <td>Poison</td>\n",
       "      <td>80</td>\n",
       "      <td>100</td>\n",
       "      <td>123</td>\n",
       "      <td>122</td>\n",
       "      <td>120</td>\n",
       "      <td>80</td>\n",
       "      <td>1</td>\n",
       "      <td>False</td>\n",
       "    </tr>\n",
       "    <tr>\n",
       "      <th>4</th>\n",
       "      <td>4</td>\n",
       "      <td>Charmander</td>\n",
       "      <td>Fire</td>\n",
       "      <td>NaN</td>\n",
       "      <td>39</td>\n",
       "      <td>52</td>\n",
       "      <td>43</td>\n",
       "      <td>60</td>\n",
       "      <td>50</td>\n",
       "      <td>65</td>\n",
       "      <td>1</td>\n",
       "      <td>False</td>\n",
       "    </tr>\n",
       "  </tbody>\n",
       "</table>\n",
       "</div>"
      ],
      "text/plain": [
       "   #                   Name Type 1  Type 2  HP  Attack  Defense  Sp. Atk  \\\n",
       "0  1              Bulbasaur  Grass  Poison  45      49       49       65   \n",
       "1  2                Ivysaur  Grass  Poison  60      62       63       80   \n",
       "2  3               Venusaur  Grass  Poison  80      82       83      100   \n",
       "3  3  VenusaurMega Venusaur  Grass  Poison  80     100      123      122   \n",
       "4  4             Charmander   Fire     NaN  39      52       43       60   \n",
       "\n",
       "   Sp. Def  Speed  Generation  Legendary  \n",
       "0       65     45           1      False  \n",
       "1       80     60           1      False  \n",
       "2      100     80           1      False  \n",
       "3      120     80           1      False  \n",
       "4       50     65           1      False  "
      ]
     },
     "execution_count": 4,
     "metadata": {},
     "output_type": "execute_result"
    }
   ],
   "source": [
    "df_pokemons.head()"
   ]
  },
  {
   "cell_type": "code",
   "execution_count": null,
   "metadata": {},
   "outputs": [],
   "source": []
  },
  {
   "cell_type": "markdown",
   "metadata": {
    "id": "3GgzXrYGHs_r"
   },
   "source": [
    "# Pandas (Parte II)"
   ]
  },
  {
   "cell_type": "markdown",
   "metadata": {
    "id": "tFqgKsdeHs_r"
   },
   "source": [
    "## Funções Úteis "
   ]
  },
  {
   "cell_type": "markdown",
   "metadata": {
    "id": "W6weCG_AHs_s"
   },
   "source": [
    "Campos vazios podem surgir em nossos dados corriqueiramente. Eles têm diversas origens e, dependendo dessa origem, receberão diferentes tratamentos. De início vamos aprender a observar essas ocorrências e o tratamento mais simples para eles: Exclusão (nem sempre a mais indicada)."
   ]
  },
  {
   "cell_type": "code",
   "execution_count": 5,
   "metadata": {
    "ExecuteTime": {
     "end_time": "2021-03-11T03:23:00.946185Z",
     "start_time": "2021-03-11T03:23:00.936655Z"
    },
    "id": "uFx75RsGHs_s"
   },
   "outputs": [
    {
     "data": {
      "text/plain": [
       "#               0\n",
       "Name            0\n",
       "Type 1          0\n",
       "Type 2        386\n",
       "HP              0\n",
       "Attack          0\n",
       "Defense         0\n",
       "Sp. Atk         0\n",
       "Sp. Def         0\n",
       "Speed           0\n",
       "Generation      0\n",
       "Legendary       0\n",
       "dtype: int64"
      ]
     },
     "execution_count": 5,
     "metadata": {},
     "output_type": "execute_result"
    }
   ],
   "source": [
    "# Contagem de NULL \n",
    "# Ela vai pegar valores None e NaN\n",
    "df_pokemons.isnull().sum()"
   ]
  },
  {
   "cell_type": "code",
   "execution_count": 6,
   "metadata": {
    "ExecuteTime": {
     "end_time": "2021-03-11T03:23:00.964271Z",
     "start_time": "2021-03-11T03:23:00.949056Z"
    },
    "executionInfo": {
     "elapsed": 807,
     "status": "ok",
     "timestamp": 1615409524275,
     "user": {
      "displayName": "Abner Cardoso Rodrigues Neto",
      "photoUrl": "",
      "userId": "17964229224599879007"
     },
     "user_tz": 180
    },
    "id": "cRWdaCA5Hs_v"
   },
   "outputs": [],
   "source": [
    "# Dropando NULL\n",
    "# Dropna tem uma série de argumentos, sugiro olhar a documentação\n",
    "df_pokemons_sem_na = df_pokemons.dropna()"
   ]
  },
  {
   "cell_type": "markdown",
   "metadata": {
    "id": "hFPHWGzAHs_0"
   },
   "source": [
    "<a href=\"https://pandas.pydata.org/pandas-docs/stable/reference/api/pandas.DataFrame.dropna.html\">Clique Aqui</a> para saber mais sobre o dropna()"
   ]
  },
  {
   "cell_type": "code",
   "execution_count": 7,
   "metadata": {
    "ExecuteTime": {
     "end_time": "2021-03-11T03:23:00.979527Z",
     "start_time": "2021-03-11T03:23:00.967224Z"
    },
    "id": "szKdvoJ3Hs_1"
   },
   "outputs": [
    {
     "data": {
      "text/plain": [
       "0      False\n",
       "1      False\n",
       "2      False\n",
       "3      False\n",
       "4      False\n",
       "       ...  \n",
       "795    False\n",
       "796    False\n",
       "797    False\n",
       "798    False\n",
       "799    False\n",
       "Length: 800, dtype: bool"
      ]
     },
     "execution_count": 7,
     "metadata": {},
     "output_type": "execute_result"
    }
   ],
   "source": [
    "# Checar se uma linha é duplicada\n",
    "df_pokemons.duplicated()"
   ]
  },
  {
   "cell_type": "code",
   "execution_count": 8,
   "metadata": {
    "ExecuteTime": {
     "end_time": "2021-03-11T03:23:01.007221Z",
     "start_time": "2021-03-11T03:23:00.982399Z"
    },
    "id": "BLo5lxfHHs_3"
   },
   "outputs": [
    {
     "data": {
      "text/html": [
       "<div>\n",
       "<style scoped>\n",
       "    .dataframe tbody tr th:only-of-type {\n",
       "        vertical-align: middle;\n",
       "    }\n",
       "\n",
       "    .dataframe tbody tr th {\n",
       "        vertical-align: top;\n",
       "    }\n",
       "\n",
       "    .dataframe thead th {\n",
       "        text-align: right;\n",
       "    }\n",
       "</style>\n",
       "<table border=\"1\" class=\"dataframe\">\n",
       "  <thead>\n",
       "    <tr style=\"text-align: right;\">\n",
       "      <th></th>\n",
       "      <th>#</th>\n",
       "      <th>Name</th>\n",
       "      <th>Type 1</th>\n",
       "      <th>Type 2</th>\n",
       "      <th>HP</th>\n",
       "      <th>Attack</th>\n",
       "      <th>Defense</th>\n",
       "      <th>Sp. Atk</th>\n",
       "      <th>Sp. Def</th>\n",
       "      <th>Speed</th>\n",
       "      <th>Generation</th>\n",
       "      <th>Legendary</th>\n",
       "    </tr>\n",
       "  </thead>\n",
       "  <tbody>\n",
       "    <tr>\n",
       "      <th>0</th>\n",
       "      <td>1</td>\n",
       "      <td>Bulbasaur</td>\n",
       "      <td>Grass</td>\n",
       "      <td>Poison</td>\n",
       "      <td>45</td>\n",
       "      <td>49</td>\n",
       "      <td>49</td>\n",
       "      <td>65</td>\n",
       "      <td>65</td>\n",
       "      <td>45</td>\n",
       "      <td>1</td>\n",
       "      <td>False</td>\n",
       "    </tr>\n",
       "    <tr>\n",
       "      <th>1</th>\n",
       "      <td>2</td>\n",
       "      <td>Ivysaur</td>\n",
       "      <td>Grass</td>\n",
       "      <td>Poison</td>\n",
       "      <td>60</td>\n",
       "      <td>62</td>\n",
       "      <td>63</td>\n",
       "      <td>80</td>\n",
       "      <td>80</td>\n",
       "      <td>60</td>\n",
       "      <td>1</td>\n",
       "      <td>False</td>\n",
       "    </tr>\n",
       "    <tr>\n",
       "      <th>2</th>\n",
       "      <td>3</td>\n",
       "      <td>Venusaur</td>\n",
       "      <td>Grass</td>\n",
       "      <td>Poison</td>\n",
       "      <td>80</td>\n",
       "      <td>82</td>\n",
       "      <td>83</td>\n",
       "      <td>100</td>\n",
       "      <td>100</td>\n",
       "      <td>80</td>\n",
       "      <td>1</td>\n",
       "      <td>False</td>\n",
       "    </tr>\n",
       "    <tr>\n",
       "      <th>3</th>\n",
       "      <td>3</td>\n",
       "      <td>VenusaurMega Venusaur</td>\n",
       "      <td>Grass</td>\n",
       "      <td>Poison</td>\n",
       "      <td>80</td>\n",
       "      <td>100</td>\n",
       "      <td>123</td>\n",
       "      <td>122</td>\n",
       "      <td>120</td>\n",
       "      <td>80</td>\n",
       "      <td>1</td>\n",
       "      <td>False</td>\n",
       "    </tr>\n",
       "    <tr>\n",
       "      <th>4</th>\n",
       "      <td>4</td>\n",
       "      <td>Charmander</td>\n",
       "      <td>Fire</td>\n",
       "      <td>NaN</td>\n",
       "      <td>39</td>\n",
       "      <td>52</td>\n",
       "      <td>43</td>\n",
       "      <td>60</td>\n",
       "      <td>50</td>\n",
       "      <td>65</td>\n",
       "      <td>1</td>\n",
       "      <td>False</td>\n",
       "    </tr>\n",
       "    <tr>\n",
       "      <th>...</th>\n",
       "      <td>...</td>\n",
       "      <td>...</td>\n",
       "      <td>...</td>\n",
       "      <td>...</td>\n",
       "      <td>...</td>\n",
       "      <td>...</td>\n",
       "      <td>...</td>\n",
       "      <td>...</td>\n",
       "      <td>...</td>\n",
       "      <td>...</td>\n",
       "      <td>...</td>\n",
       "      <td>...</td>\n",
       "    </tr>\n",
       "    <tr>\n",
       "      <th>795</th>\n",
       "      <td>719</td>\n",
       "      <td>Diancie</td>\n",
       "      <td>Rock</td>\n",
       "      <td>Fairy</td>\n",
       "      <td>50</td>\n",
       "      <td>100</td>\n",
       "      <td>150</td>\n",
       "      <td>100</td>\n",
       "      <td>150</td>\n",
       "      <td>50</td>\n",
       "      <td>6</td>\n",
       "      <td>True</td>\n",
       "    </tr>\n",
       "    <tr>\n",
       "      <th>796</th>\n",
       "      <td>719</td>\n",
       "      <td>DiancieMega Diancie</td>\n",
       "      <td>Rock</td>\n",
       "      <td>Fairy</td>\n",
       "      <td>50</td>\n",
       "      <td>160</td>\n",
       "      <td>110</td>\n",
       "      <td>160</td>\n",
       "      <td>110</td>\n",
       "      <td>110</td>\n",
       "      <td>6</td>\n",
       "      <td>True</td>\n",
       "    </tr>\n",
       "    <tr>\n",
       "      <th>797</th>\n",
       "      <td>720</td>\n",
       "      <td>HoopaHoopa Confined</td>\n",
       "      <td>Psychic</td>\n",
       "      <td>Ghost</td>\n",
       "      <td>80</td>\n",
       "      <td>110</td>\n",
       "      <td>60</td>\n",
       "      <td>150</td>\n",
       "      <td>130</td>\n",
       "      <td>70</td>\n",
       "      <td>6</td>\n",
       "      <td>True</td>\n",
       "    </tr>\n",
       "    <tr>\n",
       "      <th>798</th>\n",
       "      <td>720</td>\n",
       "      <td>HoopaHoopa Unbound</td>\n",
       "      <td>Psychic</td>\n",
       "      <td>Dark</td>\n",
       "      <td>80</td>\n",
       "      <td>160</td>\n",
       "      <td>60</td>\n",
       "      <td>170</td>\n",
       "      <td>130</td>\n",
       "      <td>80</td>\n",
       "      <td>6</td>\n",
       "      <td>True</td>\n",
       "    </tr>\n",
       "    <tr>\n",
       "      <th>799</th>\n",
       "      <td>721</td>\n",
       "      <td>Volcanion</td>\n",
       "      <td>Fire</td>\n",
       "      <td>Water</td>\n",
       "      <td>80</td>\n",
       "      <td>110</td>\n",
       "      <td>120</td>\n",
       "      <td>130</td>\n",
       "      <td>90</td>\n",
       "      <td>70</td>\n",
       "      <td>6</td>\n",
       "      <td>True</td>\n",
       "    </tr>\n",
       "  </tbody>\n",
       "</table>\n",
       "<p>800 rows × 12 columns</p>\n",
       "</div>"
      ],
      "text/plain": [
       "       #                   Name   Type 1  Type 2  HP  Attack  Defense  \\\n",
       "0      1              Bulbasaur    Grass  Poison  45      49       49   \n",
       "1      2                Ivysaur    Grass  Poison  60      62       63   \n",
       "2      3               Venusaur    Grass  Poison  80      82       83   \n",
       "3      3  VenusaurMega Venusaur    Grass  Poison  80     100      123   \n",
       "4      4             Charmander     Fire     NaN  39      52       43   \n",
       "..   ...                    ...      ...     ...  ..     ...      ...   \n",
       "795  719                Diancie     Rock   Fairy  50     100      150   \n",
       "796  719    DiancieMega Diancie     Rock   Fairy  50     160      110   \n",
       "797  720    HoopaHoopa Confined  Psychic   Ghost  80     110       60   \n",
       "798  720     HoopaHoopa Unbound  Psychic    Dark  80     160       60   \n",
       "799  721              Volcanion     Fire   Water  80     110      120   \n",
       "\n",
       "     Sp. Atk  Sp. Def  Speed  Generation  Legendary  \n",
       "0         65       65     45           1      False  \n",
       "1         80       80     60           1      False  \n",
       "2        100      100     80           1      False  \n",
       "3        122      120     80           1      False  \n",
       "4         60       50     65           1      False  \n",
       "..       ...      ...    ...         ...        ...  \n",
       "795      100      150     50           6       True  \n",
       "796      160      110    110           6       True  \n",
       "797      150      130     70           6       True  \n",
       "798      170      130     80           6       True  \n",
       "799      130       90     70           6       True  \n",
       "\n",
       "[800 rows x 12 columns]"
      ]
     },
     "execution_count": 8,
     "metadata": {},
     "output_type": "execute_result"
    }
   ],
   "source": [
    "# Dropar linhas duplicadas, mantendo a primeira ocorrência\n",
    "df_pokemons.drop_duplicates(keep='first')"
   ]
  },
  {
   "cell_type": "code",
   "execution_count": 9,
   "metadata": {
    "ExecuteTime": {
     "end_time": "2021-03-11T03:23:01.015752Z",
     "start_time": "2021-03-11T03:23:01.009641Z"
    },
    "id": "SqEDNB9hHs_7"
   },
   "outputs": [
    {
     "data": {
      "text/plain": [
       "array(['Grass', 'Fire', 'Water', 'Bug', 'Normal', 'Poison', 'Electric',\n",
       "       'Ground', 'Fairy', 'Fighting', 'Psychic', 'Rock', 'Ghost', 'Ice',\n",
       "       'Dragon', 'Dark', 'Steel', 'Flying'], dtype=object)"
      ]
     },
     "execution_count": 9,
     "metadata": {},
     "output_type": "execute_result"
    }
   ],
   "source": [
    "# Checar os elementos únicos de uma coluna (funciona muito bem quando a coluna é qualitiva/categórica)\n",
    "df_pokemons['Type 1'].unique()"
   ]
  },
  {
   "cell_type": "code",
   "execution_count": 10,
   "metadata": {
    "ExecuteTime": {
     "end_time": "2021-03-11T03:23:01.048453Z",
     "start_time": "2021-03-11T03:23:01.019596Z"
    },
    "id": "_5d-dHjFHs_9"
   },
   "outputs": [
    {
     "data": {
      "text/html": [
       "<div>\n",
       "<style scoped>\n",
       "    .dataframe tbody tr th:only-of-type {\n",
       "        vertical-align: middle;\n",
       "    }\n",
       "\n",
       "    .dataframe tbody tr th {\n",
       "        vertical-align: top;\n",
       "    }\n",
       "\n",
       "    .dataframe thead th {\n",
       "        text-align: right;\n",
       "    }\n",
       "</style>\n",
       "<table border=\"1\" class=\"dataframe\">\n",
       "  <thead>\n",
       "    <tr style=\"text-align: right;\">\n",
       "      <th></th>\n",
       "      <th>#</th>\n",
       "      <th>Name</th>\n",
       "      <th>Type 1</th>\n",
       "      <th>Type 2</th>\n",
       "      <th>HP</th>\n",
       "      <th>Attack</th>\n",
       "      <th>Defense</th>\n",
       "      <th>Sp. Atk</th>\n",
       "      <th>Sp. Def</th>\n",
       "      <th>Speed</th>\n",
       "      <th>Generation</th>\n",
       "      <th>Legendary</th>\n",
       "    </tr>\n",
       "  </thead>\n",
       "  <tbody>\n",
       "    <tr>\n",
       "      <th>0</th>\n",
       "      <td>Verdadeiro</td>\n",
       "      <td>Bulbasaur</td>\n",
       "      <td>Grass</td>\n",
       "      <td>Poison</td>\n",
       "      <td>45</td>\n",
       "      <td>49</td>\n",
       "      <td>49</td>\n",
       "      <td>65</td>\n",
       "      <td>65</td>\n",
       "      <td>45</td>\n",
       "      <td>Verdadeiro</td>\n",
       "      <td>Falso</td>\n",
       "    </tr>\n",
       "    <tr>\n",
       "      <th>1</th>\n",
       "      <td>2</td>\n",
       "      <td>Ivysaur</td>\n",
       "      <td>Grass</td>\n",
       "      <td>Poison</td>\n",
       "      <td>60</td>\n",
       "      <td>62</td>\n",
       "      <td>63</td>\n",
       "      <td>80</td>\n",
       "      <td>80</td>\n",
       "      <td>60</td>\n",
       "      <td>Verdadeiro</td>\n",
       "      <td>Falso</td>\n",
       "    </tr>\n",
       "    <tr>\n",
       "      <th>2</th>\n",
       "      <td>3</td>\n",
       "      <td>Venusaur</td>\n",
       "      <td>Grass</td>\n",
       "      <td>Poison</td>\n",
       "      <td>80</td>\n",
       "      <td>82</td>\n",
       "      <td>83</td>\n",
       "      <td>100</td>\n",
       "      <td>100</td>\n",
       "      <td>80</td>\n",
       "      <td>Verdadeiro</td>\n",
       "      <td>Falso</td>\n",
       "    </tr>\n",
       "    <tr>\n",
       "      <th>3</th>\n",
       "      <td>3</td>\n",
       "      <td>VenusaurMega Venusaur</td>\n",
       "      <td>Grass</td>\n",
       "      <td>Poison</td>\n",
       "      <td>80</td>\n",
       "      <td>100</td>\n",
       "      <td>123</td>\n",
       "      <td>122</td>\n",
       "      <td>120</td>\n",
       "      <td>80</td>\n",
       "      <td>Verdadeiro</td>\n",
       "      <td>Falso</td>\n",
       "    </tr>\n",
       "    <tr>\n",
       "      <th>4</th>\n",
       "      <td>4</td>\n",
       "      <td>Charmander</td>\n",
       "      <td>Fire</td>\n",
       "      <td>NaN</td>\n",
       "      <td>39</td>\n",
       "      <td>52</td>\n",
       "      <td>43</td>\n",
       "      <td>60</td>\n",
       "      <td>50</td>\n",
       "      <td>65</td>\n",
       "      <td>Verdadeiro</td>\n",
       "      <td>Falso</td>\n",
       "    </tr>\n",
       "    <tr>\n",
       "      <th>...</th>\n",
       "      <td>...</td>\n",
       "      <td>...</td>\n",
       "      <td>...</td>\n",
       "      <td>...</td>\n",
       "      <td>...</td>\n",
       "      <td>...</td>\n",
       "      <td>...</td>\n",
       "      <td>...</td>\n",
       "      <td>...</td>\n",
       "      <td>...</td>\n",
       "      <td>...</td>\n",
       "      <td>...</td>\n",
       "    </tr>\n",
       "    <tr>\n",
       "      <th>795</th>\n",
       "      <td>719</td>\n",
       "      <td>Diancie</td>\n",
       "      <td>Rock</td>\n",
       "      <td>Fairy</td>\n",
       "      <td>50</td>\n",
       "      <td>100</td>\n",
       "      <td>150</td>\n",
       "      <td>100</td>\n",
       "      <td>150</td>\n",
       "      <td>50</td>\n",
       "      <td>6</td>\n",
       "      <td>Verdadeiro</td>\n",
       "    </tr>\n",
       "    <tr>\n",
       "      <th>796</th>\n",
       "      <td>719</td>\n",
       "      <td>DiancieMega Diancie</td>\n",
       "      <td>Rock</td>\n",
       "      <td>Fairy</td>\n",
       "      <td>50</td>\n",
       "      <td>160</td>\n",
       "      <td>110</td>\n",
       "      <td>160</td>\n",
       "      <td>110</td>\n",
       "      <td>110</td>\n",
       "      <td>6</td>\n",
       "      <td>Verdadeiro</td>\n",
       "    </tr>\n",
       "    <tr>\n",
       "      <th>797</th>\n",
       "      <td>720</td>\n",
       "      <td>HoopaHoopa Confined</td>\n",
       "      <td>Psychic</td>\n",
       "      <td>Ghost</td>\n",
       "      <td>80</td>\n",
       "      <td>110</td>\n",
       "      <td>60</td>\n",
       "      <td>150</td>\n",
       "      <td>130</td>\n",
       "      <td>70</td>\n",
       "      <td>6</td>\n",
       "      <td>Verdadeiro</td>\n",
       "    </tr>\n",
       "    <tr>\n",
       "      <th>798</th>\n",
       "      <td>720</td>\n",
       "      <td>HoopaHoopa Unbound</td>\n",
       "      <td>Psychic</td>\n",
       "      <td>Dark</td>\n",
       "      <td>80</td>\n",
       "      <td>160</td>\n",
       "      <td>60</td>\n",
       "      <td>170</td>\n",
       "      <td>130</td>\n",
       "      <td>80</td>\n",
       "      <td>6</td>\n",
       "      <td>Verdadeiro</td>\n",
       "    </tr>\n",
       "    <tr>\n",
       "      <th>799</th>\n",
       "      <td>721</td>\n",
       "      <td>Volcanion</td>\n",
       "      <td>Fire</td>\n",
       "      <td>Water</td>\n",
       "      <td>80</td>\n",
       "      <td>110</td>\n",
       "      <td>120</td>\n",
       "      <td>130</td>\n",
       "      <td>90</td>\n",
       "      <td>70</td>\n",
       "      <td>6</td>\n",
       "      <td>Verdadeiro</td>\n",
       "    </tr>\n",
       "  </tbody>\n",
       "</table>\n",
       "<p>800 rows × 12 columns</p>\n",
       "</div>"
      ],
      "text/plain": [
       "              #                   Name   Type 1  Type 2  HP  Attack  Defense  \\\n",
       "0    Verdadeiro              Bulbasaur    Grass  Poison  45      49       49   \n",
       "1             2                Ivysaur    Grass  Poison  60      62       63   \n",
       "2             3               Venusaur    Grass  Poison  80      82       83   \n",
       "3             3  VenusaurMega Venusaur    Grass  Poison  80     100      123   \n",
       "4             4             Charmander     Fire     NaN  39      52       43   \n",
       "..          ...                    ...      ...     ...  ..     ...      ...   \n",
       "795         719                Diancie     Rock   Fairy  50     100      150   \n",
       "796         719    DiancieMega Diancie     Rock   Fairy  50     160      110   \n",
       "797         720    HoopaHoopa Confined  Psychic   Ghost  80     110       60   \n",
       "798         720     HoopaHoopa Unbound  Psychic    Dark  80     160       60   \n",
       "799         721              Volcanion     Fire   Water  80     110      120   \n",
       "\n",
       "     Sp. Atk  Sp. Def  Speed  Generation   Legendary  \n",
       "0         65       65     45  Verdadeiro       Falso  \n",
       "1         80       80     60  Verdadeiro       Falso  \n",
       "2        100      100     80  Verdadeiro       Falso  \n",
       "3        122      120     80  Verdadeiro       Falso  \n",
       "4         60       50     65  Verdadeiro       Falso  \n",
       "..       ...      ...    ...         ...         ...  \n",
       "795      100      150     50           6  Verdadeiro  \n",
       "796      160      110    110           6  Verdadeiro  \n",
       "797      150      130     70           6  Verdadeiro  \n",
       "798      170      130     80           6  Verdadeiro  \n",
       "799      130       90     70           6  Verdadeiro  \n",
       "\n",
       "[800 rows x 12 columns]"
      ]
     },
     "execution_count": 10,
     "metadata": {},
     "output_type": "execute_result"
    }
   ],
   "source": [
    "# Replace (substituir um valor por outro), equivale ao localizar e substituir do excel\n",
    "df_pokemons.replace({True:'Verdadeiro', False:'Falso'})"
   ]
  },
  {
   "cell_type": "markdown",
   "metadata": {
    "id": "LcU2H4IKHs__"
   },
   "source": [
    "##  Agregação (Group By & Aggregate)"
   ]
  },
  {
   "cell_type": "markdown",
   "metadata": {
    "id": "Q8ed3cxZHtAA"
   },
   "source": [
    "A agregação é simplesmente a ação de olhar as estatísticas sob a perspectiva de grupos."
   ]
  },
  {
   "cell_type": "markdown",
   "metadata": {
    "id": "YTx-qBfFHtAA"
   },
   "source": [
    "<img src=\"https://jakevdp.github.io/PythonDataScienceHandbook/figures/03.08-split-apply-combine.png\" height=600 width=600>"
   ]
  },
  {
   "cell_type": "markdown",
   "metadata": {
    "id": "G3KeoB7PHtAB"
   },
   "source": [
    "Basicamente, os dados vão ser separados de acordo com um ou mais grups em comum ```(etapa de split)```. Então, a partir da separação desses grupos uma função vai ser aplicada ```(apply (sum))``` em cada subconjunto. No nosso exemplo essa função de soma. No final, ele combina o resultado agrupad ```(combine)```."
   ]
  },
  {
   "cell_type": "markdown",
   "metadata": {
    "id": "8CAuchanHtAB"
   },
   "source": [
    "<img src=\"https://www.softwaretestingclass.com/wp-content/uploads/2013/06/sql_group_by_with_aggregate_function.gif\" height=450 width=450>"
   ]
  },
  {
   "cell_type": "markdown",
   "metadata": {
    "id": "8_vxjNBhHtAB"
   },
   "source": [
    "Aqui vemos os grupos de departamento e extraímos a soma do salário por departamento."
   ]
  },
  {
   "cell_type": "code",
   "execution_count": 24,
   "metadata": {
    "ExecuteTime": {
     "end_time": "2021-03-11T03:37:48.308399Z",
     "start_time": "2021-03-11T03:37:48.282637Z"
    }
   },
   "outputs": [
    {
     "data": {
      "text/html": [
       "<div>\n",
       "<style scoped>\n",
       "    .dataframe tbody tr th:only-of-type {\n",
       "        vertical-align: middle;\n",
       "    }\n",
       "\n",
       "    .dataframe tbody tr th {\n",
       "        vertical-align: top;\n",
       "    }\n",
       "\n",
       "    .dataframe thead th {\n",
       "        text-align: right;\n",
       "    }\n",
       "</style>\n",
       "<table border=\"1\" class=\"dataframe\">\n",
       "  <thead>\n",
       "    <tr style=\"text-align: right;\">\n",
       "      <th></th>\n",
       "      <th>Name</th>\n",
       "      <th>Type 1</th>\n",
       "      <th>Type 2</th>\n",
       "      <th>HP</th>\n",
       "    </tr>\n",
       "  </thead>\n",
       "  <tbody>\n",
       "    <tr>\n",
       "      <th>92</th>\n",
       "      <td>Dwebble</td>\n",
       "      <td>Bug</td>\n",
       "      <td>Rock</td>\n",
       "      <td>50</td>\n",
       "    </tr>\n",
       "    <tr>\n",
       "      <th>376</th>\n",
       "      <td>Venipede</td>\n",
       "      <td>Bug</td>\n",
       "      <td>Poison</td>\n",
       "      <td>30</td>\n",
       "    </tr>\n",
       "    <tr>\n",
       "      <th>223</th>\n",
       "      <td>Masquerain</td>\n",
       "      <td>Bug</td>\n",
       "      <td>Flying</td>\n",
       "      <td>70</td>\n",
       "    </tr>\n",
       "    <tr>\n",
       "      <th>91</th>\n",
       "      <td>Dustox</td>\n",
       "      <td>Bug</td>\n",
       "      <td>Poison</td>\n",
       "      <td>60</td>\n",
       "    </tr>\n",
       "    <tr>\n",
       "      <th>43</th>\n",
       "      <td>Butterfree</td>\n",
       "      <td>Bug</td>\n",
       "      <td>Flying</td>\n",
       "      <td>60</td>\n",
       "    </tr>\n",
       "    <tr>\n",
       "      <th>...</th>\n",
       "      <td>...</td>\n",
       "      <td>...</td>\n",
       "      <td>...</td>\n",
       "      <td>...</td>\n",
       "    </tr>\n",
       "    <tr>\n",
       "      <th>352</th>\n",
       "      <td>Swanna</td>\n",
       "      <td>Water</td>\n",
       "      <td>Flying</td>\n",
       "      <td>75</td>\n",
       "    </tr>\n",
       "    <tr>\n",
       "      <th>351</th>\n",
       "      <td>SwampertMega Swampert</td>\n",
       "      <td>Water</td>\n",
       "      <td>Ground</td>\n",
       "      <td>100</td>\n",
       "    </tr>\n",
       "    <tr>\n",
       "      <th>350</th>\n",
       "      <td>Swampert</td>\n",
       "      <td>Water</td>\n",
       "      <td>Ground</td>\n",
       "      <td>100</td>\n",
       "    </tr>\n",
       "    <tr>\n",
       "      <th>358</th>\n",
       "      <td>Tentacool</td>\n",
       "      <td>Water</td>\n",
       "      <td>Poison</td>\n",
       "      <td>40</td>\n",
       "    </tr>\n",
       "    <tr>\n",
       "      <th>206</th>\n",
       "      <td>Lotad</td>\n",
       "      <td>Water</td>\n",
       "      <td>Grass</td>\n",
       "      <td>40</td>\n",
       "    </tr>\n",
       "  </tbody>\n",
       "</table>\n",
       "<p>414 rows × 4 columns</p>\n",
       "</div>"
      ],
      "text/plain": [
       "                      Name Type 1  Type 2   HP\n",
       "92                 Dwebble    Bug    Rock   50\n",
       "376               Venipede    Bug  Poison   30\n",
       "223             Masquerain    Bug  Flying   70\n",
       "91                  Dustox    Bug  Poison   60\n",
       "43              Butterfree    Bug  Flying   60\n",
       "..                     ...    ...     ...  ...\n",
       "352                 Swanna  Water  Flying   75\n",
       "351  SwampertMega Swampert  Water  Ground  100\n",
       "350               Swampert  Water  Ground  100\n",
       "358              Tentacool  Water  Poison   40\n",
       "206                  Lotad  Water   Grass   40\n",
       "\n",
       "[414 rows x 4 columns]"
      ]
     },
     "execution_count": 24,
     "metadata": {},
     "output_type": "execute_result"
    }
   ],
   "source": [
    "df2 = df_pokemons.groupby(['Name','Type 1','Type 2']).sum()\n",
    "df2 = df2.reset_index()\n",
    "df2 = df2[['Name','Type 1','Type 2','HP']].sort_values('Type 1')\n",
    "df2"
   ]
  },
  {
   "cell_type": "code",
   "execution_count": null,
   "metadata": {
    "id": "1lUTxNLpHtAC"
   },
   "outputs": [],
   "source": [
    "# Soma de HP agrupada por Type 1\n",
    "df_pokemons.groupby('Type 1').sum()"
   ]
  },
  {
   "cell_type": "code",
   "execution_count": null,
   "metadata": {
    "id": "d5uMAfQZ6iWf"
   },
   "outputs": [],
   "source": [
    "df_pokemons.groupby('Type 1').get_group('Bug')"
   ]
  },
  {
   "cell_type": "code",
   "execution_count": null,
   "metadata": {
    "id": "FQBVIxXdHtAF"
   },
   "outputs": [],
   "source": [
    "# Média de HP agrupada por Type 1\n",
    "df_pokemons.groupby('Type 1').mean()"
   ]
  },
  {
   "cell_type": "code",
   "execution_count": null,
   "metadata": {
    "id": "TknsTljBHtAH"
   },
   "outputs": [],
   "source": [
    "# Agrupando por mais de um grupo\n",
    "df_pokemons.groupby(['Type 1', 'Legendary']).mean()"
   ]
  },
  {
   "cell_type": "markdown",
   "metadata": {
    "id": "xXaVgWEmHtAJ"
   },
   "source": [
    "# E se quisermos aplicar mais funções ? E se quisermos aplicar funções diferentes para colunas diferentes?1"
   ]
  },
  {
   "cell_type": "code",
   "execution_count": null,
   "metadata": {
    "id": "EEEDNkPQHtAK"
   },
   "outputs": [],
   "source": [
    "df.groupby('key').aggregate(['min', np.median, max])"
   ]
  },
  {
   "cell_type": "code",
   "execution_count": null,
   "metadata": {
    "id": "TouLDcuxHtAN"
   },
   "outputs": [],
   "source": [
    "# Agrupando por Type 1 e aplicando várias funções para todas as coluna\n",
    "# Note que as funções são passadas dentro de uma lista\n",
    "df_pokemons.groupby('Type 1').agg(['min', np.median, 'max'])"
   ]
  },
  {
   "cell_type": "code",
   "execution_count": null,
   "metadata": {
    "id": "iFQQ5XUAHtAP"
   },
   "outputs": [],
   "source": [
    "# Agrupando por Type 1 e aplicando várias funções diferentes para diferentes colunas\n",
    "df_pokemons.groupby('Type 1').agg({'HP':['max', 'min'],\n",
    "                                   'Sp. Atk':[np.std, np.median]})"
   ]
  },
  {
   "cell_type": "markdown",
   "metadata": {
    "id": "Q7pSbEFRHtAS"
   },
   "source": [
    "## Apply, Apply map, map"
   ]
  },
  {
   "cell_type": "markdown",
   "metadata": {
    "id": "EwviwbBRHtAS"
   },
   "source": [
    "Suponha que precisamos alterar o nome dos pokémons, adicionando o pré-fixo \"Pokémon\" em seus nomes, separando por underline.\n",
    "**Ex.: Pokémon_Bulbasaur**"
   ]
  },
  {
   "cell_type": "markdown",
   "metadata": {
    "id": "JIdryH7tHtAT"
   },
   "source": [
    "### Revisão Relâmpago de Funções"
   ]
  },
  {
   "cell_type": "markdown",
   "metadata": {
    "id": "Og0-MJNSHtAT"
   },
   "source": [
    "Uma função é um bloco de código que recebe alguns parâmetros e retorna um valor. Ex.: Podemos receber a quantidade de horas trabalhadas e o valor da hora de um funcionário e retornar por meio da função o salário daquele mês."
   ]
  },
  {
   "cell_type": "markdown",
   "metadata": {
    "id": "Zlefu9IvHtAU"
   },
   "source": [
    "Para definir uma função precisamos da palavra-chave ```def``` . Além da ```def```, precisamos dar um nome a nossa função. No nosso caso ela irá se chamar calcular_salário. Por fim, ela irá receber 2 parâmetros: quantidade de horas trabalhadas e valor da hora, e então retornar o valor calculado através da palavra-chave ```return```.\n",
    "\n"
   ]
  },
  {
   "cell_type": "code",
   "execution_count": 11,
   "metadata": {
    "executionInfo": {
     "elapsed": 859,
     "status": "ok",
     "timestamp": 1615409681538,
     "user": {
      "displayName": "Abner Cardoso Rodrigues Neto",
      "photoUrl": "",
      "userId": "17964229224599879007"
     },
     "user_tz": 180
    },
    "id": "8-GDn-MYHtAU"
   },
   "outputs": [],
   "source": [
    "def calcular_salario(valor_da_hora, horas_trabalhadas):\n",
    "    salario_do_mes = valor_da_hora*horas_trabalhadas\n",
    "    return salario_do_mes"
   ]
  },
  {
   "cell_type": "code",
   "execution_count": null,
   "metadata": {
    "id": "E31ePW4hHtAW"
   },
   "outputs": [],
   "source": [
    "calcular_salario(100, 10)"
   ]
  },
  {
   "cell_type": "markdown",
   "metadata": {
    "id": "rPtKFc1gHtAa"
   },
   "source": [
    "Vamos usar uma função para adicionar o pré-fixo \"Pokémon\" a qualquer string e return a nova string."
   ]
  },
  {
   "cell_type": "code",
   "execution_count": 16,
   "metadata": {
    "executionInfo": {
     "elapsed": 719,
     "status": "ok",
     "timestamp": 1615409817165,
     "user": {
      "displayName": "Abner Cardoso Rodrigues Neto",
      "photoUrl": "",
      "userId": "17964229224599879007"
     },
     "user_tz": 180
    },
    "id": "LnzzOGmhHtAb"
   },
   "outputs": [],
   "source": [
    "def adicionar_pokemon(string):\n",
    "    nova_string = \"Pokémon_\"+string\n",
    "    return nova_string"
   ]
  },
  {
   "cell_type": "code",
   "execution_count": null,
   "metadata": {
    "id": "p4lUFWRZHtAd"
   },
   "outputs": [],
   "source": [
    "adicionar_pokemon('Bulbasaur')"
   ]
  },
  {
   "cell_type": "markdown",
   "metadata": {
    "id": "IrWpdqbeHtAf"
   },
   "source": [
    "Agora, basta nós aplicarmos essa função para todos os pokémons do nosso data frame. Como faríamos isso? "
   ]
  },
  {
   "cell_type": "markdown",
   "metadata": {
    "id": "woZa0b8xHtAf"
   },
   "source": [
    "Uma opção seria por meio de um ```for```.  Mas a opção mais legal seria utilizar o método ```map```."
   ]
  },
  {
   "cell_type": "code",
   "execution_count": null,
   "metadata": {
    "id": "rVxl4sAp7D0y"
   },
   "outputs": [],
   "source": [
    "df_pokemons['Name'].map(adicionar_pokemon)"
   ]
  },
  {
   "cell_type": "markdown",
   "metadata": {
    "id": "InByxsJ3HtAg"
   },
   "source": [
    "### Map"
   ]
  },
  {
   "cell_type": "markdown",
   "metadata": {
    "id": "nJJ2K2kSHtAg"
   },
   "source": [
    "Para o método ```map``` passamos:"
   ]
  },
  {
   "cell_type": "markdown",
   "metadata": {
    "id": "mzvCXMNtHtAg"
   },
   "source": [
    "O método map irá percorrer item por item e aplicar a função desejada. Exemplo: Tirar a raíz quadrada de cada elemento. Note que já existe uma função que realiza essa tarefa. A criação de funções com ```def``` será para apenas para o caso de funções bem personalizadas. No Numpy temos o ```np.sqrt```."
   ]
  },
  {
   "cell_type": "code",
   "execution_count": null,
   "metadata": {
    "id": "iMMawbrAHtAh"
   },
   "outputs": [],
   "source": [
    "# Tirar a raíz  de cada elemento da coluna HP\n",
    "df_pokemons['HP'].map(np.sqrt)"
   ]
  },
  {
   "cell_type": "markdown",
   "metadata": {
    "id": "-2Zk0md9HtAj"
   },
   "source": [
    "### Apply"
   ]
  },
  {
   "cell_type": "markdown",
   "metadata": {
    "id": "xvsSOQrCHtAk"
   },
   "source": [
    "Se quisermos aplicar uma determinada função em todas as linhas de uma vez? Ou em todas as colunas?.<br>\n",
    "Use o ```apply```."
   ]
  },
  {
   "cell_type": "code",
   "execution_count": 18,
   "metadata": {
    "colab": {
     "base_uri": "https://localhost:8080/"
    },
    "executionInfo": {
     "elapsed": 798,
     "status": "ok",
     "timestamp": 1615409839269,
     "user": {
      "displayName": "Abner Cardoso Rodrigues Neto",
      "photoUrl": "",
      "userId": "17964229224599879007"
     },
     "user_tz": 180
    },
    "id": "7BLnGxsxHtAk",
    "outputId": "0ca47c89-ef43-4f2b-dcb3-09e4def9f95f"
   },
   "outputs": [
    {
     "data": {
      "text/plain": [
       "#                          721\n",
       "Name          Zygarde50% Forme\n",
       "Type 1                   Water\n",
       "HP                         255\n",
       "Attack                     190\n",
       "Defense                    230\n",
       "Sp. Atk                    194\n",
       "Sp. Def                    230\n",
       "Speed                      180\n",
       "Generation                   6\n",
       "Legendary                 True\n",
       "dtype: object"
      ]
     },
     "execution_count": 18,
     "metadata": {
      "tags": []
     },
     "output_type": "execute_result"
    }
   ],
   "source": [
    "# APlicando a função max para cada coluna\n",
    "df_pokemons.max()"
   ]
  },
  {
   "cell_type": "code",
   "execution_count": null,
   "metadata": {
    "id": "B_GgqQVwHtAo"
   },
   "outputs": [],
   "source": [
    "# APlicando a função max para cada linha\n",
    "df_pokemons.max(axis=1)"
   ]
  },
  {
   "cell_type": "markdown",
   "metadata": {
    "id": "To-6blMLHtAq"
   },
   "source": [
    "Note que o valor máximo de cada linha foi retornado."
   ]
  },
  {
   "cell_type": "markdown",
   "metadata": {
    "id": "sFWlpbmfHtAq"
   },
   "source": [
    "Porém, existem funções que não têm esse comportamento. Suponha que queiramos saber a diferença entre o máximo e o mínmo de cada atributo do nosso dataframe. "
   ]
  },
  {
   "cell_type": "code",
   "execution_count": 34,
   "metadata": {
    "executionInfo": {
     "elapsed": 828,
     "status": "ok",
     "timestamp": 1615410146252,
     "user": {
      "displayName": "Abner Cardoso Rodrigues Neto",
      "photoUrl": "",
      "userId": "17964229224599879007"
     },
     "user_tz": 180
    },
    "id": "jfkOtyjLHtAr"
   },
   "outputs": [],
   "source": [
    "def max_min(x):\n",
    "    diferenca = x.max() - x.min()\n",
    "    return diferenca"
   ]
  },
  {
   "cell_type": "markdown",
   "metadata": {
    "id": "Eij7sCb_HtAs"
   },
   "source": [
    "No nosso exemplo, o x é uma coluna do dataframe. Pra aplicar essa lógica de cálculo em uma coluna, usamos o ```apply```."
   ]
  },
  {
   "cell_type": "code",
   "execution_count": null,
   "metadata": {
    "id": "C-KZspQMHtAt"
   },
   "outputs": [],
   "source": [
    "# Aplicando o método para algumas colunas\n",
    "df_pokemons.loc[:, ['HP', 'Sp. Atk']].apply(max_min)"
   ]
  },
  {
   "cell_type": "code",
   "execution_count": null,
   "metadata": {
    "id": "xQ4Z4TKj71sI"
   },
   "outputs": [],
   "source": [
    "df_pokemons[['HP', 'Sp. Atk']].apply(max_min)"
   ]
  },
  {
   "cell_type": "code",
   "execution_count": 28,
   "metadata": {
    "executionInfo": {
     "elapsed": 915,
     "status": "ok",
     "timestamp": 1615410077236,
     "user": {
      "displayName": "Abner Cardoso Rodrigues Neto",
      "photoUrl": "",
      "userId": "17964229224599879007"
     },
     "user_tz": 180
    },
    "id": "tRbvhz6sHtAv"
   },
   "outputs": [],
   "source": [
    "# Checando\n",
    "max_HP = df_pokemons['HP'].max()\n",
    "min_HP = df_pokemons['HP'].min()\n",
    "max_SP_Atk = df_pokemons['Sp. Atk'].max()\n",
    "min_SP_Atk = df_pokemons['Sp. Atk'].min()"
   ]
  },
  {
   "cell_type": "code",
   "execution_count": null,
   "metadata": {
    "id": "nmp0Br9OHtAx"
   },
   "outputs": [],
   "source": [
    "# Diferença entre o máximo e mínimo HP\n",
    "max_HP - min_HP"
   ]
  },
  {
   "cell_type": "code",
   "execution_count": null,
   "metadata": {
    "id": "_BsZSvS0HtAz"
   },
   "outputs": [],
   "source": [
    "# Diferença entre o máximo e o mínimo HP\n",
    "max_SP_Atk - min_SP_Atk"
   ]
  },
  {
   "cell_type": "markdown",
   "metadata": {
    "id": "12UZsJMiHtA1"
   },
   "source": [
    "## Applymap"
   ]
  },
  {
   "cell_type": "markdown",
   "metadata": {
    "id": "6J8yxcwgHtA2"
   },
   "source": [
    "E se quisermos aplicar alguma transformação para cada elemento do dataframe de uma única vez? <br>\n",
    "Use applymap."
   ]
  },
  {
   "cell_type": "code",
   "execution_count": null,
   "metadata": {
    "id": "w3NflsLxHtA2"
   },
   "outputs": [],
   "source": [
    "# Aplicar a raíz quadrada em todos os elementos\n",
    "df_pokemons.loc[:, ['HP', 'Sp. Atk', 'Attack', 'Defense']].applymap(np.sqrt)"
   ]
  },
  {
   "cell_type": "markdown",
   "metadata": {
    "id": "N_5-w65oHtA4"
   },
   "source": [
    "# Exercícios"
   ]
  },
  {
   "cell_type": "markdown",
   "metadata": {
    "id": "5QMp30tcHtA5"
   },
   "source": [
    "**Quizz:**\n",
    "* Retorne na tela quantos pokémons de cada Type 2 existem (use o group by).\n",
    "* Retorne o máximo de HP, o máximo de Attack e o mínimo de Defesa de Cada Type 1 de pokémon (use agg)"
   ]
  },
  {
   "cell_type": "code",
   "execution_count": null,
   "metadata": {
    "id": "ALdo9qYZHtBB"
   },
   "outputs": [],
   "source": []
  }
 ],
 "metadata": {
  "colab": {
   "collapsed_sections": [
    "JIdryH7tHtAT",
    "InByxsJ3HtAg",
    "-2Zk0md9HtAj"
   ],
   "name": "DSTN02_Pandas II",
   "provenance": [
    {
     "file_id": "12DLuVhzr_Xcew2syoIIY9UsUVSIdQ-WN",
     "timestamp": 1615409211814
    }
   ],
   "toc_visible": true
  },
  "hide_input": false,
  "kernelspec": {
   "display_name": "Python 3",
   "language": "python",
   "name": "python3"
  },
  "language_info": {
   "codemirror_mode": {
    "name": "ipython",
    "version": 3
   },
   "file_extension": ".py",
   "mimetype": "text/x-python",
   "name": "python",
   "nbconvert_exporter": "python",
   "pygments_lexer": "ipython3",
   "version": "3.8.5"
  },
  "toc": {
   "base_numbering": 1,
   "nav_menu": {},
   "number_sections": true,
   "sideBar": true,
   "skip_h1_title": false,
   "title_cell": "Table of Contents",
   "title_sidebar": "Contents",
   "toc_cell": false,
   "toc_position": {
    "height": "calc(100% - 180px)",
    "left": "10px",
    "top": "150px",
    "width": "165px"
   },
   "toc_section_display": true,
   "toc_window_display": false
  }
 },
 "nbformat": 4,
 "nbformat_minor": 1
}
